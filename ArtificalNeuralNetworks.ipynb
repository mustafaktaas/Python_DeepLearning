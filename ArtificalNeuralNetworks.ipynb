{
 "cells": [
  {
   "cell_type": "markdown",
   "id": "1cf5ed42-946d-4c54-bf62-b226c884e7e2",
   "metadata": {},
   "source": [
    "# Yapay Sinir Ağları ile Rakam Tanıma"
   ]
  },
  {
   "cell_type": "markdown",
   "id": "aac6c3be-41e5-402b-b5cd-a93c06b16a05",
   "metadata": {},
   "source": [
    "### İş Problemi"
   ]
  },
  {
   "cell_type": "markdown",
   "id": "b9c6b5e3-34d8-4379-902a-c7ef812a411b",
   "metadata": {},
   "source": [
    "El yazısı ile yazılan rakamları tanıma"
   ]
  },
  {
   "cell_type": "code",
   "execution_count": 2,
   "id": "13c0bce2-0b1a-48c1-a057-4933d3534095",
   "metadata": {},
   "outputs": [
    {
     "name": "stdout",
     "output_type": "stream",
     "text": [
      "Requirement already satisfied: tensorflow in c:\\users\\mustafa\\anaconda3\\lib\\site-packages (2.10.0)\n",
      "Requirement already satisfied: flatbuffers>=2.0 in c:\\users\\mustafa\\anaconda3\\lib\\site-packages (from tensorflow) (22.9.24)\n",
      "Requirement already satisfied: opt-einsum>=2.3.2 in c:\\users\\mustafa\\anaconda3\\lib\\site-packages (from tensorflow) (3.3.0)\n",
      "Requirement already satisfied: wrapt>=1.11.0 in c:\\users\\mustafa\\anaconda3\\lib\\site-packages (from tensorflow) (1.12.1)\n",
      "Requirement already satisfied: typing-extensions>=3.6.6 in c:\\users\\mustafa\\anaconda3\\lib\\site-packages (from tensorflow) (4.1.1)\n",
      "Requirement already satisfied: h5py>=2.9.0 in c:\\users\\mustafa\\anaconda3\\lib\\site-packages (from tensorflow) (3.6.0)\n",
      "Requirement already satisfied: libclang>=13.0.0 in c:\\users\\mustafa\\anaconda3\\lib\\site-packages (from tensorflow) (14.0.6)\n",
      "Requirement already satisfied: tensorflow-estimator<2.11,>=2.10.0 in c:\\users\\mustafa\\anaconda3\\lib\\site-packages (from tensorflow) (2.10.0)\n",
      "Requirement already satisfied: keras<2.11,>=2.10.0 in c:\\users\\mustafa\\anaconda3\\lib\\site-packages (from tensorflow) (2.10.0)\n",
      "Requirement already satisfied: setuptools in c:\\users\\mustafa\\anaconda3\\lib\\site-packages (from tensorflow) (61.2.0)\n",
      "Requirement already satisfied: tensorflow-io-gcs-filesystem>=0.23.1 in c:\\users\\mustafa\\anaconda3\\lib\\site-packages (from tensorflow) (0.27.0)\n",
      "Requirement already satisfied: gast<=0.4.0,>=0.2.1 in c:\\users\\mustafa\\anaconda3\\lib\\site-packages (from tensorflow) (0.4.0)\n",
      "Requirement already satisfied: tensorboard<2.11,>=2.10 in c:\\users\\mustafa\\anaconda3\\lib\\site-packages (from tensorflow) (2.10.1)\n",
      "Requirement already satisfied: astunparse>=1.6.0 in c:\\users\\mustafa\\anaconda3\\lib\\site-packages (from tensorflow) (1.6.3)\n",
      "Requirement already satisfied: packaging in c:\\users\\mustafa\\anaconda3\\lib\\site-packages (from tensorflow) (21.3)\n",
      "Requirement already satisfied: termcolor>=1.1.0 in c:\\users\\mustafa\\anaconda3\\lib\\site-packages (from tensorflow) (2.0.1)\n",
      "Requirement already satisfied: six>=1.12.0 in c:\\users\\mustafa\\anaconda3\\lib\\site-packages (from tensorflow) (1.16.0)\n",
      "Requirement already satisfied: numpy>=1.20 in c:\\users\\mustafa\\anaconda3\\lib\\site-packages (from tensorflow) (1.21.5)\n",
      "Requirement already satisfied: protobuf<3.20,>=3.9.2 in c:\\users\\mustafa\\anaconda3\\lib\\site-packages (from tensorflow) (3.19.1)\n",
      "Requirement already satisfied: grpcio<2.0,>=1.24.3 in c:\\users\\mustafa\\anaconda3\\lib\\site-packages (from tensorflow) (1.42.0)\n",
      "Requirement already satisfied: absl-py>=1.0.0 in c:\\users\\mustafa\\anaconda3\\lib\\site-packages (from tensorflow) (1.2.0)\n",
      "Requirement already satisfied: google-pasta>=0.1.1 in c:\\users\\mustafa\\anaconda3\\lib\\site-packages (from tensorflow) (0.2.0)\n",
      "Requirement already satisfied: keras-preprocessing>=1.1.1 in c:\\users\\mustafa\\anaconda3\\lib\\site-packages (from tensorflow) (1.1.2)\n",
      "Requirement already satisfied: wheel<1.0,>=0.23.0 in c:\\users\\mustafa\\anaconda3\\lib\\site-packages (from astunparse>=1.6.0->tensorflow) (0.37.1)\n",
      "Requirement already satisfied: tensorboard-plugin-wit>=1.6.0 in c:\\users\\mustafa\\anaconda3\\lib\\site-packages (from tensorboard<2.11,>=2.10->tensorflow) (1.8.1)\n",
      "Requirement already satisfied: tensorboard-data-server<0.7.0,>=0.6.0 in c:\\users\\mustafa\\anaconda3\\lib\\site-packages (from tensorboard<2.11,>=2.10->tensorflow) (0.6.1)\n",
      "Requirement already satisfied: google-auth-oauthlib<0.5,>=0.4.1 in c:\\users\\mustafa\\anaconda3\\lib\\site-packages (from tensorboard<2.11,>=2.10->tensorflow) (0.4.6)\n",
      "Requirement already satisfied: google-auth<3,>=1.6.3 in c:\\users\\mustafa\\anaconda3\\lib\\site-packages (from tensorboard<2.11,>=2.10->tensorflow) (1.33.0)\n",
      "Requirement already satisfied: markdown>=2.6.8 in c:\\users\\mustafa\\anaconda3\\lib\\site-packages (from tensorboard<2.11,>=2.10->tensorflow) (3.3.4)\n",
      "Requirement already satisfied: werkzeug>=1.0.1 in c:\\users\\mustafa\\anaconda3\\lib\\site-packages (from tensorboard<2.11,>=2.10->tensorflow) (2.0.3)\n",
      "Requirement already satisfied: requests<3,>=2.21.0 in c:\\users\\mustafa\\anaconda3\\lib\\site-packages (from tensorboard<2.11,>=2.10->tensorflow) (2.27.1)\n",
      "Requirement already satisfied: pyasn1-modules>=0.2.1 in c:\\users\\mustafa\\anaconda3\\lib\\site-packages (from google-auth<3,>=1.6.3->tensorboard<2.11,>=2.10->tensorflow) (0.2.8)\n",
      "Requirement already satisfied: rsa<5,>=3.1.4 in c:\\users\\mustafa\\anaconda3\\lib\\site-packages (from google-auth<3,>=1.6.3->tensorboard<2.11,>=2.10->tensorflow) (4.7.2)\n",
      "Requirement already satisfied: cachetools<5.0,>=2.0.0 in c:\\users\\mustafa\\anaconda3\\lib\\site-packages (from google-auth<3,>=1.6.3->tensorboard<2.11,>=2.10->tensorflow) (4.2.2)\n",
      "Requirement already satisfied: requests-oauthlib>=0.7.0 in c:\\users\\mustafa\\anaconda3\\lib\\site-packages (from google-auth-oauthlib<0.5,>=0.4.1->tensorboard<2.11,>=2.10->tensorflow) (1.3.1)\n",
      "Requirement already satisfied: pyasn1<0.5.0,>=0.4.6 in c:\\users\\mustafa\\anaconda3\\lib\\site-packages (from pyasn1-modules>=0.2.1->google-auth<3,>=1.6.3->tensorboard<2.11,>=2.10->tensorflow) (0.4.8)\n",
      "Requirement already satisfied: charset-normalizer~=2.0.0 in c:\\users\\mustafa\\anaconda3\\lib\\site-packages (from requests<3,>=2.21.0->tensorboard<2.11,>=2.10->tensorflow) (2.0.4)\n",
      "Requirement already satisfied: idna<4,>=2.5 in c:\\users\\mustafa\\anaconda3\\lib\\site-packages (from requests<3,>=2.21.0->tensorboard<2.11,>=2.10->tensorflow) (3.3)\n",
      "Requirement already satisfied: certifi>=2017.4.17 in c:\\users\\mustafa\\anaconda3\\lib\\site-packages (from requests<3,>=2.21.0->tensorboard<2.11,>=2.10->tensorflow) (2022.9.14)\n",
      "Requirement already satisfied: urllib3<1.27,>=1.21.1 in c:\\users\\mustafa\\anaconda3\\lib\\site-packages (from requests<3,>=2.21.0->tensorboard<2.11,>=2.10->tensorflow) (1.26.9)\n",
      "Requirement already satisfied: oauthlib>=3.0.0 in c:\\users\\mustafa\\anaconda3\\lib\\site-packages (from requests-oauthlib>=0.7.0->google-auth-oauthlib<0.5,>=0.4.1->tensorboard<2.11,>=2.10->tensorflow) (3.2.1)\n",
      "Requirement already satisfied: pyparsing!=3.0.5,>=2.0.2 in c:\\users\\mustafa\\anaconda3\\lib\\site-packages (from packaging->tensorflow) (3.0.4)\n"
     ]
    },
    {
     "name": "stderr",
     "output_type": "stream",
     "text": [
      "WARNING: Ignoring invalid distribution -atplotlib (c:\\users\\mustafa\\anaconda3\\lib\\site-packages)\n",
      "WARNING: Ignoring invalid distribution -atplotlib (c:\\users\\mustafa\\anaconda3\\lib\\site-packages)\n",
      "WARNING: Ignoring invalid distribution -atplotlib (c:\\users\\mustafa\\anaconda3\\lib\\site-packages)\n",
      "WARNING: Ignoring invalid distribution -atplotlib (c:\\users\\mustafa\\anaconda3\\lib\\site-packages)\n",
      "WARNING: Ignoring invalid distribution -atplotlib (c:\\users\\mustafa\\anaconda3\\lib\\site-packages)\n",
      "WARNING: Ignoring invalid distribution -atplotlib (c:\\users\\mustafa\\anaconda3\\lib\\site-packages)\n"
     ]
    }
   ],
   "source": [
    "!pip install tensorflow"
   ]
  },
  {
   "cell_type": "code",
   "execution_count": 1,
   "id": "4ca0e400-8135-423d-9bdc-283ea2c9c33e",
   "metadata": {},
   "outputs": [],
   "source": [
    "import tensorflow as tf\n",
    "from tensorflow.keras.datasets import mnist\n",
    "from tensorflow.keras.models import load_model,Sequential\n",
    "from tensorflow.keras.layers import Dense,Flatten\n",
    "from tensorflow.keras.utils import to_categorical,plot_model\n",
    "\n",
    "import matplotlib.pyplot as plt\n",
    "import numpy as np"
   ]
  },
  {
   "cell_type": "code",
   "execution_count": 2,
   "id": "ea74c7bc-d64f-4d5f-a5ac-80f55bd215b0",
   "metadata": {},
   "outputs": [],
   "source": [
    "(x_train,y_train) , (x_test,y_test) = mnist.load_data()"
   ]
  },
  {
   "cell_type": "code",
   "execution_count": 3,
   "id": "3f18401e-7d88-4938-827e-366f01f60d82",
   "metadata": {},
   "outputs": [
    {
     "data": {
      "text/plain": [
       "((60000, 28, 28), (60000,))"
      ]
     },
     "execution_count": 3,
     "metadata": {},
     "output_type": "execute_result"
    }
   ],
   "source": [
    "x_train.shape , y_train.shape"
   ]
  },
  {
   "cell_type": "code",
   "execution_count": 4,
   "id": "7d313512-a24b-4b47-9fea-1685375a4934",
   "metadata": {},
   "outputs": [
    {
     "data": {
      "text/plain": [
       "((10000, 28, 28), (10000,))"
      ]
     },
     "execution_count": 4,
     "metadata": {},
     "output_type": "execute_result"
    }
   ],
   "source": [
    "x_test.shape , y_test.shape"
   ]
  },
  {
   "cell_type": "code",
   "execution_count": 5,
   "id": "42cb6552-a792-4505-9dd1-666a23a434e2",
   "metadata": {},
   "outputs": [],
   "source": [
    "num_labels = len(np.unique(y_train))"
   ]
  },
  {
   "cell_type": "code",
   "execution_count": 6,
   "id": "d55cac71-7a69-4b6f-b83d-c4753433b1d5",
   "metadata": {},
   "outputs": [
    {
     "data": {
      "text/plain": [
       "10"
      ]
     },
     "execution_count": 6,
     "metadata": {},
     "output_type": "execute_result"
    }
   ],
   "source": [
    "num_labels"
   ]
  },
  {
   "cell_type": "code",
   "execution_count": 7,
   "id": "10cd750e-2a42-4721-be4e-71834e90860a",
   "metadata": {},
   "outputs": [
    {
     "data": {
      "image/png": "[encoded data removed]",
      "text/plain": [
       "<Figure size 720x720 with 1 Axes>"
      ]
     },
     "metadata": {
      "needs_background": "light"
     },
     "output_type": "display_data"
    }
   ],
   "source": [
    "plt.figure(figsize = (10,10))\n",
    "plt.imshow(x_train[1], cmap = \"gray\");"
   ]
  },
  {
   "cell_type": "code",
   "execution_count": 8,
   "id": "048a6cdf-351f-45bf-afe0-1e96bf39b6a5",
   "metadata": {},
   "outputs": [
    {
     "data": {
      "image/png": "[encoded data removed]",
      "text/plain": [
       "<Figure size 720x720 with 10 Axes>"
      ]
     },
     "metadata": {
      "needs_background": "light"
     },
     "output_type": "display_data"
    }
   ],
   "source": [
    "plt.figure(figsize = (10,10))\n",
    "for n in range(10) :\n",
    "    ax = plt.subplot(5,5,n+1)\n",
    "    plt.imshow(x_train[n],cmap = \"gray\")\n",
    "    plt.axis(\"off\")"
   ]
  },
  {
   "cell_type": "code",
   "execution_count": 9,
   "id": "54b15422-ace7-471f-b944-e2b4c4ee8956",
   "metadata": {},
   "outputs": [],
   "source": [
    "def visualize_img(data):\n",
    "    plt.figure(figsize = (10,10))\n",
    "    for n in range(10) :\n",
    "        ax = plt.subplot(5,5,n+1)\n",
    "        plt.imshow(data[n],cmap = \"gray\")\n",
    "        plt.axis(\"off\")"
   ]
  },
  {
   "cell_type": "code",
   "execution_count": 10,
   "id": "252fdf7c-b76d-474c-9bee-6c84479e96c9",
   "metadata": {},
   "outputs": [
    {
     "data": {
      "image/png": "[encoded data removed]",
      "text/plain": [
       "<Figure size 720x720 with 10 Axes>"
      ]
     },
     "metadata": {
      "needs_background": "light"
     },
     "output_type": "display_data"
    }
   ],
   "source": [
    "visualize_img(x_train)"
   ]
  },
  {
   "cell_type": "code",
   "execution_count": 16,
   "id": "8bbd2101-f6f3-45cc-825f-4d1a07342a7c",
   "metadata": {},
   "outputs": [
    {
     "data": {
      "image/png": "[encoded data removed]",
      "text/plain": [
       "<Figure size 720x720 with 1 Axes>"
      ]
     },
     "metadata": {
      "needs_background": "light"
     },
     "output_type": "display_data"
    }
   ],
   "source": [
    "plt.figure(figsize = (10,10))\n",
    "plt.imshow(x_train[2], cmap = \"gray\");"
   ]
  },
  {
   "cell_type": "code",
   "execution_count": 12,
   "id": "156a2983-02bc-4adf-8e2d-f7ebcf7a5884",
   "metadata": {},
   "outputs": [],
   "source": [
    "# RGB kodları"
   ]
  },
  {
   "cell_type": "code",
   "execution_count": 13,
   "id": "b1fc90e8-65a1-4f57-988a-94c01c30690f",
   "metadata": {
    "collapsed": true,
    "jupyter": {
     "outputs_hidden": true
    },
    "tags": []
   },
   "outputs": [
    {
     "data": {
      "text/plain": [
       "array([[  0,   0,   0,   0,   0,   0,   0,   0,   0,   0,   0,   0,   0,\n",
       "          0,   0,   0,   0,   0,   0,   0,   0,   0,   0,   0,   0,   0,\n",
       "          0,   0],\n",
       "       [  0,   0,   0,   0,   0,   0,   0,   0,   0,   0,   0,   0,   0,\n",
       "          0,   0,   0,   0,   0,   0,   0,   0,   0,   0,   0,   0,   0,\n",
       "          0,   0],\n",
       "       [  0,   0,   0,   0,   0,   0,   0,   0,   0,   0,   0,   0,   0,\n",
       "          0,   0,   0,   0,   0,   0,   0,   0,   0,   0,   0,   0,   0,\n",
       "          0,   0],\n",
       "       [  0,   0,   0,   0,   0,   0,   0,   0,   0,   0,   0,   0,   0,\n",
       "          0,   0,   0,   0,   0,   0,   0,   0,   0,   0,   0,   0,   0,\n",
       "          0,   0],\n",
       "       [  0,   0,   0,   0,   0,   0,   0,   0,   0,   0,   0,   0,   0,\n",
       "          0,   0,   0,   0,   0,   0,   0,   0,   0,   0,   0,   0,   0,\n",
       "          0,   0],\n",
       "       [  0,   0,   0,   0,   0,   0,   0,   0,   0,   0,   0,   0,   0,\n",
       "          0,   0,   0,   0,   0,   0,   0,  67, 232,  39,   0,   0,   0,\n",
       "          0,   0],\n",
       "       [  0,   0,   0,   0,  62,  81,   0,   0,   0,   0,   0,   0,   0,\n",
       "          0,   0,   0,   0,   0,   0,   0, 120, 180,  39,   0,   0,   0,\n",
       "          0,   0],\n",
       "       [  0,   0,   0,   0, 126, 163,   0,   0,   0,   0,   0,   0,   0,\n",
       "          0,   0,   0,   0,   0,   0,   2, 153, 210,  40,   0,   0,   0,\n",
       "          0,   0],\n",
       "       [  0,   0,   0,   0, 220, 163,   0,   0,   0,   0,   0,   0,   0,\n",
       "          0,   0,   0,   0,   0,   0,  27, 254, 162,   0,   0,   0,   0,\n",
       "          0,   0],\n",
       "       [  0,   0,   0,   0, 222, 163,   0,   0,   0,   0,   0,   0,   0,\n",
       "          0,   0,   0,   0,   0,   0, 183, 254, 125,   0,   0,   0,   0,\n",
       "          0,   0],\n",
       "       [  0,   0,   0,  46, 245, 163,   0,   0,   0,   0,   0,   0,   0,\n",
       "          0,   0,   0,   0,   0,   0, 198, 254,  56,   0,   0,   0,   0,\n",
       "          0,   0],\n",
       "       [  0,   0,   0, 120, 254, 163,   0,   0,   0,   0,   0,   0,   0,\n",
       "          0,   0,   0,   0,   0,  23, 231, 254,  29,   0,   0,   0,   0,\n",
       "          0,   0],\n",
       "       [  0,   0,   0, 159, 254, 120,   0,   0,   0,   0,   0,   0,   0,\n",
       "          0,   0,   0,   0,   0, 163, 254, 216,  16,   0,   0,   0,   0,\n",
       "          0,   0],\n",
       "       [  0,   0,   0, 159, 254,  67,   0,   0,   0,   0,   0,   0,   0,\n",
       "          0,   0,  14,  86, 178, 248, 254,  91,   0,   0,   0,   0,   0,\n",
       "          0,   0],\n",
       "       [  0,   0,   0, 159, 254,  85,   0,   0,   0,  47,  49, 116, 144,\n",
       "        150, 241, 243, 234, 179, 241, 252,  40,   0,   0,   0,   0,   0,\n",
       "          0,   0],\n",
       "       [  0,   0,   0, 150, 253, 237, 207, 207, 207, 253, 254, 250, 240,\n",
       "        198, 143,  91,  28,   5, 233, 250,   0,   0,   0,   0,   0,   0,\n",
       "          0,   0],\n",
       "       [  0,   0,   0,   0, 119, 177, 177, 177, 177, 177,  98,  56,   0,\n",
       "          0,   0,   0,   0, 102, 254, 220,   0,   0,   0,   0,   0,   0,\n",
       "          0,   0],\n",
       "       [  0,   0,   0,   0,   0,   0,   0,   0,   0,   0,   0,   0,   0,\n",
       "          0,   0,   0,   0, 169, 254, 137,   0,   0,   0,   0,   0,   0,\n",
       "          0,   0],\n",
       "       [  0,   0,   0,   0,   0,   0,   0,   0,   0,   0,   0,   0,   0,\n",
       "          0,   0,   0,   0, 169, 254,  57,   0,   0,   0,   0,   0,   0,\n",
       "          0,   0],\n",
       "       [  0,   0,   0,   0,   0,   0,   0,   0,   0,   0,   0,   0,   0,\n",
       "          0,   0,   0,   0, 169, 254,  57,   0,   0,   0,   0,   0,   0,\n",
       "          0,   0],\n",
       "       [  0,   0,   0,   0,   0,   0,   0,   0,   0,   0,   0,   0,   0,\n",
       "          0,   0,   0,   0, 169, 255,  94,   0,   0,   0,   0,   0,   0,\n",
       "          0,   0],\n",
       "       [  0,   0,   0,   0,   0,   0,   0,   0,   0,   0,   0,   0,   0,\n",
       "          0,   0,   0,   0, 169, 254,  96,   0,   0,   0,   0,   0,   0,\n",
       "          0,   0],\n",
       "       [  0,   0,   0,   0,   0,   0,   0,   0,   0,   0,   0,   0,   0,\n",
       "          0,   0,   0,   0, 169, 254, 153,   0,   0,   0,   0,   0,   0,\n",
       "          0,   0],\n",
       "       [  0,   0,   0,   0,   0,   0,   0,   0,   0,   0,   0,   0,   0,\n",
       "          0,   0,   0,   0, 169, 255, 153,   0,   0,   0,   0,   0,   0,\n",
       "          0,   0],\n",
       "       [  0,   0,   0,   0,   0,   0,   0,   0,   0,   0,   0,   0,   0,\n",
       "          0,   0,   0,   0,  96, 254, 153,   0,   0,   0,   0,   0,   0,\n",
       "          0,   0],\n",
       "       [  0,   0,   0,   0,   0,   0,   0,   0,   0,   0,   0,   0,   0,\n",
       "          0,   0,   0,   0,   0,   0,   0,   0,   0,   0,   0,   0,   0,\n",
       "          0,   0],\n",
       "       [  0,   0,   0,   0,   0,   0,   0,   0,   0,   0,   0,   0,   0,\n",
       "          0,   0,   0,   0,   0,   0,   0,   0,   0,   0,   0,   0,   0,\n",
       "          0,   0],\n",
       "       [  0,   0,   0,   0,   0,   0,   0,   0,   0,   0,   0,   0,   0,\n",
       "          0,   0,   0,   0,   0,   0,   0,   0,   0,   0,   0,   0,   0,\n",
       "          0,   0]], dtype=uint8)"
      ]
     },
     "execution_count": 13,
     "metadata": {},
     "output_type": "execute_result"
    }
   ],
   "source": [
    "x_train[2]"
   ]
  },
  {
   "cell_type": "code",
   "execution_count": 14,
   "id": "6e892c8b-adc6-4608-9507-833fda73fd35",
   "metadata": {},
   "outputs": [
    {
     "data": {
      "text/plain": [
       "(60000, 28, 28)"
      ]
     },
     "execution_count": 14,
     "metadata": {},
     "output_type": "execute_result"
    }
   ],
   "source": [
    "x_train.shape"
   ]
  },
  {
   "cell_type": "code",
   "execution_count": 17,
   "id": "a401332e-b9f8-41e2-9c1b-bac63eaae5fb",
   "metadata": {},
   "outputs": [
    {
     "data": {
      "text/plain": [
       "49"
      ]
     },
     "execution_count": 17,
     "metadata": {},
     "output_type": "execute_result"
    }
   ],
   "source": [
    "x_train[2][14,10]"
   ]
  },
  {
   "cell_type": "code",
   "execution_count": 18,
   "id": "4733f3a9-6534-42a1-96f7-f7df2b027356",
   "metadata": {},
   "outputs": [
    {
     "data": {
      "text/plain": [
       "24.799744897959183"
      ]
     },
     "execution_count": 18,
     "metadata": {},
     "output_type": "execute_result"
    }
   ],
   "source": [
    "x_train[2].mean()"
   ]
  },
  {
   "cell_type": "code",
   "execution_count": 19,
   "id": "f706b7a9-431d-486f-9876-654443c98263",
   "metadata": {},
   "outputs": [
    {
     "data": {
      "text/plain": [
       "19443"
      ]
     },
     "execution_count": 19,
     "metadata": {},
     "output_type": "execute_result"
    }
   ],
   "source": [
    "x_train[2].sum()"
   ]
  },
  {
   "cell_type": "code",
   "execution_count": 20,
   "id": "3216f182-ab1b-4646-a0b0-bb9018a3af5e",
   "metadata": {},
   "outputs": [
    {
     "data": {
      "text/plain": [
       "array([[ 49, 116, 144, 150, 241, 243, 234, 179, 241, 252],\n",
       "       [254, 250, 240, 198, 143,  91,  28,   5, 233, 250],\n",
       "       [ 98,  56,   0,   0,   0,   0,   0, 102, 254, 220],\n",
       "       [  0,   0,   0,   0,   0,   0,   0, 169, 254, 137],\n",
       "       [  0,   0,   0,   0,   0,   0,   0, 169, 254,  57],\n",
       "       [  0,   0,   0,   0,   0,   0,   0, 169, 254,  57]], dtype=uint8)"
      ]
     },
     "execution_count": 20,
     "metadata": {},
     "output_type": "execute_result"
    }
   ],
   "source": [
    "x_train[2][14:20,10:20]"
   ]
  },
  {
   "cell_type": "markdown",
   "id": "418e4755-3e79-4c93-9f4d-da2141af18f0",
   "metadata": {},
   "source": [
    "## Veriyi Hazırlama"
   ]
  },
  {
   "cell_type": "markdown",
   "id": "789dfece-b48c-4cce-b59f-5379ae16e078",
   "metadata": {},
   "source": [
    "### Encoding"
   ]
  },
  {
   "cell_type": "code",
   "execution_count": 21,
   "id": "d0444704-94c9-4cd0-b671-5bb04e1529ba",
   "metadata": {},
   "outputs": [
    {
     "data": {
      "text/plain": [
       "array([5, 0, 4, 1, 9], dtype=uint8)"
      ]
     },
     "execution_count": 21,
     "metadata": {},
     "output_type": "execute_result"
    }
   ],
   "source": [
    "y_train[0:5]"
   ]
  },
  {
   "cell_type": "code",
   "execution_count": 22,
   "id": "27c8ff56-04b0-4e07-9836-282c0c9253d4",
   "metadata": {},
   "outputs": [],
   "source": [
    "y_train = to_categorical(y_train)"
   ]
  },
  {
   "cell_type": "code",
   "execution_count": 23,
   "id": "7b151045-185c-43c3-bd3d-7dbe952267fb",
   "metadata": {},
   "outputs": [],
   "source": [
    "y_test = to_categorical(y_test)"
   ]
  },
  {
   "cell_type": "code",
   "execution_count": 24,
   "id": "f1394850-0b36-41b8-a686-9a5a6b251b3c",
   "metadata": {},
   "outputs": [
    {
     "data": {
      "text/plain": [
       "array([[0., 0., 0., 0., 0., 1., 0., 0., 0., 0.],\n",
       "       [1., 0., 0., 0., 0., 0., 0., 0., 0., 0.],\n",
       "       [0., 0., 0., 0., 1., 0., 0., 0., 0., 0.],\n",
       "       [0., 1., 0., 0., 0., 0., 0., 0., 0., 0.],\n",
       "       [0., 0., 0., 0., 0., 0., 0., 0., 0., 1.]], dtype=float32)"
      ]
     },
     "execution_count": 24,
     "metadata": {},
     "output_type": "execute_result"
    }
   ],
   "source": [
    "y_train[0:5]"
   ]
  },
  {
   "cell_type": "markdown",
   "id": "92d7a96e-3ece-4306-bed8-46ae2e95d9cd",
   "metadata": {},
   "source": [
    "### Reshaping"
   ]
  },
  {
   "cell_type": "code",
   "execution_count": 27,
   "id": "ec91435d-714d-4cc9-b271-9d559c80c8a9",
   "metadata": {},
   "outputs": [],
   "source": [
    "image_size = x_train.shape[1]"
   ]
  },
  {
   "cell_type": "code",
   "execution_count": 28,
   "id": "23380762-b320-47d6-8deb-458cc972b67d",
   "metadata": {},
   "outputs": [
    {
     "data": {
      "text/plain": [
       "28"
      ]
     },
     "execution_count": 28,
     "metadata": {},
     "output_type": "execute_result"
    }
   ],
   "source": [
    "image_size"
   ]
  },
  {
   "cell_type": "code",
   "execution_count": 29,
   "id": "ab87ea03-40ca-44af-b224-eb06a4269114",
   "metadata": {},
   "outputs": [
    {
     "data": {
      "text/plain": [
       "((60000, 28, 28), (10000, 28, 28))"
      ]
     },
     "execution_count": 29,
     "metadata": {},
     "output_type": "execute_result"
    }
   ],
   "source": [
    "x_train.shape,x_test.shape"
   ]
  },
  {
   "cell_type": "code",
   "execution_count": 30,
   "id": "747ab12c-002e-49f2-960f-273388ac881b",
   "metadata": {},
   "outputs": [],
   "source": [
    "x_train = x_train.reshape(x_train.shape[0],28,28,1)\n",
    "x_test = x_test.reshape(x_test.shape[0],28,28,1)"
   ]
  },
  {
   "cell_type": "code",
   "execution_count": 31,
   "id": "708bc3da-1dda-42ad-8a19-aea49a72b7b3",
   "metadata": {},
   "outputs": [
    {
     "data": {
      "text/plain": [
       "((60000, 28, 28, 1), (10000, 28, 28, 1))"
      ]
     },
     "execution_count": 31,
     "metadata": {},
     "output_type": "execute_result"
    }
   ],
   "source": [
    "x_train.shape,x_test.shape"
   ]
  },
  {
   "cell_type": "markdown",
   "id": "20af4d91-8be9-4e64-82ed-61c94d9637be",
   "metadata": {},
   "source": [
    "### Normalization"
   ]
  },
  {
   "cell_type": "code",
   "execution_count": 32,
   "id": "49cb67d8-80eb-479c-8ead-53871823acf4",
   "metadata": {},
   "outputs": [],
   "source": [
    "x_train = x_train.astype(\"float32\") / 255\n",
    "x_test = x_test.astype(\"float32\") / 255"
   ]
  },
  {
   "cell_type": "markdown",
   "id": "1032de81-4a81-47b8-8859-71f0609bc74b",
   "metadata": {},
   "source": [
    "## MODEL"
   ]
  },
  {
   "cell_type": "code",
   "execution_count": 36,
   "id": "e8eab4fc-d41c-422d-b38a-d30d2a44c2ad",
   "metadata": {},
   "outputs": [],
   "source": [
    "model = tf.keras.Sequential([\n",
    "    Flatten(input_shape=(28,28,1)),\n",
    "    Dense(units = 128,activation = \"relu\" , name= \"layer1\"),\n",
    "    Dense(units = num_labels,activation = \"softmax\" , name= \"output_layer\")])"
   ]
  },
  {
   "cell_type": "code",
   "execution_count": 38,
   "id": "8bdddcd3-3028-4bd8-b654-8ce61b955028",
   "metadata": {},
   "outputs": [],
   "source": [
    "model.compile(loss = \"categorical_crossentropy\",\n",
    "                 optimizer = \"adam\",\n",
    "                 metrics = [tf.keras.metrics.Precision(),tf.keras.metrics.Recall(),\"accuracy\"])"
   ]
  },
  {
   "cell_type": "code",
   "execution_count": 39,
   "id": "a3838e26-44e9-467e-8e3c-7687b9fd1ea5",
   "metadata": {},
   "outputs": [
    {
     "name": "stdout",
     "output_type": "stream",
     "text": [
      "Model: \"sequential_1\"\n",
      "_________________________________________________________________\n",
      " Layer (type)                Output Shape              Param #   \n",
      "=================================================================\n",
      " flatten_1 (Flatten)         (None, 784)               0         \n",
      "                                                                 \n",
      " layer1 (Dense)              (None, 128)               100480    \n",
      "                                                                 \n",
      " output_layer (Dense)        (None, 10)                1290      \n",
      "                                                                 \n",
      "=================================================================\n",
      "Total params: 101,770\n",
      "Trainable params: 101,770\n",
      "Non-trainable params: 0\n",
      "_________________________________________________________________\n"
     ]
    }
   ],
   "source": [
    "model.summary()"
   ]
  },
  {
   "cell_type": "code",
   "execution_count": 42,
   "id": "f29b171e-1628-490b-82c8-adc8dc3b4fe8",
   "metadata": {},
   "outputs": [
    {
     "name": "stdout",
     "output_type": "stream",
     "text": [
      "Epoch 1/10\n",
      "469/469 [==============================] - 1s 2ms/step - loss: 0.0614 - precision: 0.9856 - recall: 0.9794 - accuracy: 0.9823 - val_loss: 0.0774 - val_precision: 0.9794 - val_recall: 0.9731 - val_accuracy: 0.9761\n",
      "Epoch 2/10\n",
      "469/469 [==============================] - 1s 3ms/step - loss: 0.0517 - precision: 0.9872 - recall: 0.9826 - accuracy: 0.9848 - val_loss: 0.0772 - val_precision: 0.9797 - val_recall: 0.9735 - val_accuracy: 0.9760\n",
      "Epoch 3/10\n",
      "469/469 [==============================] - 1s 2ms/step - loss: 0.0438 - precision: 0.9895 - recall: 0.9857 - accuracy: 0.9875 - val_loss: 0.0782 - val_precision: 0.9786 - val_recall: 0.9736 - val_accuracy: 0.9750\n",
      "Epoch 4/10\n",
      "469/469 [==============================] - 1s 2ms/step - loss: 0.0378 - precision: 0.9906 - recall: 0.9873 - accuracy: 0.9889 - val_loss: 0.0727 - val_precision: 0.9790 - val_recall: 0.9749 - val_accuracy: 0.9759\n",
      "Epoch 5/10\n",
      "469/469 [==============================] - 1s 2ms/step - loss: 0.0313 - precision: 0.9926 - recall: 0.9903 - accuracy: 0.9914 - val_loss: 0.0721 - val_precision: 0.9801 - val_recall: 0.9751 - val_accuracy: 0.9772\n",
      "Epoch 6/10\n",
      "469/469 [==============================] - 1s 3ms/step - loss: 0.0264 - precision: 0.9942 - recall: 0.9918 - accuracy: 0.9932 - val_loss: 0.0759 - val_precision: 0.9796 - val_recall: 0.9757 - val_accuracy: 0.9774\n",
      "Epoch 7/10\n",
      "469/469 [==============================] - 1s 3ms/step - loss: 0.0234 - precision: 0.9947 - recall: 0.9928 - accuracy: 0.9937 - val_loss: 0.0701 - val_precision: 0.9802 - val_recall: 0.9765 - val_accuracy: 0.9778\n",
      "Epoch 8/10\n",
      "469/469 [==============================] - 1s 2ms/step - loss: 0.0207 - precision: 0.9956 - recall: 0.9942 - accuracy: 0.9949 - val_loss: 0.0717 - val_precision: 0.9802 - val_recall: 0.9769 - val_accuracy: 0.9778\n",
      "Epoch 9/10\n",
      "469/469 [==============================] - 1s 3ms/step - loss: 0.0171 - precision: 0.9964 - recall: 0.9953 - accuracy: 0.9960 - val_loss: 0.0727 - val_precision: 0.9786 - val_recall: 0.9763 - val_accuracy: 0.9772\n",
      "Epoch 10/10\n",
      "469/469 [==============================] - 1s 3ms/step - loss: 0.0144 - precision: 0.9974 - recall: 0.9965 - accuracy: 0.9969 - val_loss: 0.0726 - val_precision: 0.9794 - val_recall: 0.9772 - val_accuracy: 0.9779\n"
     ]
    },
    {
     "data": {
      "text/plain": [
       "<keras.callbacks.History at 0x2480ce1d2b0>"
      ]
     },
     "execution_count": 42,
     "metadata": {},
     "output_type": "execute_result"
    }
   ],
   "source": [
    "model.fit(x_train,y_train,epochs = 10,batch_size = 128, validation_data=(x_test,y_test))"
   ]
  },
  {
   "cell_type": "markdown",
   "id": "65a134f4-0862-455f-8215-aa05673a36e0",
   "metadata": {},
   "source": [
    "## Model Başarı Değerlendirme"
   ]
  },
  {
   "cell_type": "code",
   "execution_count": 43,
   "id": "62fd7784-889c-43da-83df-57d3c2ef987e",
   "metadata": {},
   "outputs": [
    {
     "name": "stdout",
     "output_type": "stream",
     "text": [
      "Epoch 1/10\n",
      "469/469 [==============================] - 1s 3ms/step - loss: 0.0121 - precision: 0.9979 - recall: 0.9972 - accuracy: 0.9977 - val_loss: 0.0730 - val_precision: 0.9805 - val_recall: 0.9773 - val_accuracy: 0.9791\n",
      "Epoch 2/10\n",
      "469/469 [==============================] - 1s 2ms/step - loss: 0.0113 - precision: 0.9979 - recall: 0.9972 - accuracy: 0.9976 - val_loss: 0.0715 - val_precision: 0.9814 - val_recall: 0.9790 - val_accuracy: 0.9798\n",
      "Epoch 3/10\n",
      "469/469 [==============================] - 1s 2ms/step - loss: 0.0086 - precision: 0.9986 - recall: 0.9983 - accuracy: 0.9985 - val_loss: 0.0822 - val_precision: 0.9787 - val_recall: 0.9766 - val_accuracy: 0.9770\n",
      "Epoch 4/10\n",
      "469/469 [==============================] - 1s 3ms/step - loss: 0.0087 - precision: 0.9985 - recall: 0.9981 - accuracy: 0.9984 - val_loss: 0.0810 - val_precision: 0.9783 - val_recall: 0.9765 - val_accuracy: 0.9771\n",
      "Epoch 5/10\n",
      "469/469 [==============================] - 1s 3ms/step - loss: 0.0066 - precision: 0.9990 - recall: 0.9987 - accuracy: 0.9988 - val_loss: 0.0817 - val_precision: 0.9791 - val_recall: 0.9773 - val_accuracy: 0.9778\n",
      "Epoch 6/10\n",
      "469/469 [==============================] - 1s 2ms/step - loss: 0.0055 - precision: 0.9993 - recall: 0.9991 - accuracy: 0.9992 - val_loss: 0.0763 - val_precision: 0.9795 - val_recall: 0.9775 - val_accuracy: 0.9779\n",
      "Epoch 7/10\n",
      "469/469 [==============================] - 1s 3ms/step - loss: 0.0057 - precision: 0.9991 - recall: 0.9989 - accuracy: 0.9990 - val_loss: 0.0849 - val_precision: 0.9781 - val_recall: 0.9765 - val_accuracy: 0.9768\n",
      "Epoch 8/10\n",
      "469/469 [==============================] - 1s 2ms/step - loss: 0.0037 - precision: 0.9997 - recall: 0.9996 - accuracy: 0.9997 - val_loss: 0.0815 - val_precision: 0.9801 - val_recall: 0.9779 - val_accuracy: 0.9783\n",
      "Epoch 9/10\n",
      "469/469 [==============================] - 1s 3ms/step - loss: 0.0064 - precision: 0.9985 - recall: 0.9983 - accuracy: 0.9984 - val_loss: 0.0813 - val_precision: 0.9798 - val_recall: 0.9775 - val_accuracy: 0.9785\n",
      "Epoch 10/10\n",
      "469/469 [==============================] - 1s 3ms/step - loss: 0.0032 - precision: 0.9997 - recall: 0.9997 - accuracy: 0.9997 - val_loss: 0.0869 - val_precision: 0.9796 - val_recall: 0.9780 - val_accuracy: 0.9786\n"
     ]
    }
   ],
   "source": [
    "history = model.fit(x_train,y_train,epochs = 10,batch_size = 128, validation_data=(x_test,y_test))"
   ]
  },
  {
   "cell_type": "code",
   "execution_count": 44,
   "id": "5ae6a5d4-47ac-41a5-b381-1fd056b5cdb4",
   "metadata": {},
   "outputs": [],
   "source": [
    "#### Accuracy ve Loss Grafikleri var bak."
   ]
  },
  {
   "cell_type": "code",
   "execution_count": 47,
   "id": "1d017fe5-d911-4e1b-91fd-707e41527301",
   "metadata": {},
   "outputs": [
    {
     "name": "stdout",
     "output_type": "stream",
     "text": [
      "\n",
      " Accuracy : 97.9% \n",
      "\n",
      " Loss : 8.7% \n",
      "\n",
      " Precision : 98.0% \n",
      "\n",
      " Recall : 97.8% \n"
     ]
    }
   ],
   "source": [
    "loss,precision,recall,acc = model.evaluate(x_test,y_test,verbose = \"False\")\n",
    "print(\"\\n Accuracy : %.1f%% \" % (100 * acc))\n",
    "print(\"\\n Loss : %.1f%% \" % (100 * loss))\n",
    "print(\"\\n Precision : %.1f%% \" % (100 * precision))\n",
    "print(\"\\n Recall : %.1f%% \" % (100 * recall))"
   ]
  },
  {
   "cell_type": "markdown",
   "id": "8910c387-e7b4-48ee-9103-a0ef5fcfef6d",
   "metadata": {},
   "source": [
    "## Modelin Kaydedilmesi ve Tahmini"
   ]
  },
  {
   "cell_type": "code",
   "execution_count": 48,
   "id": "cb340302-4ce9-4e5a-9a60-402841bec5da",
   "metadata": {},
   "outputs": [],
   "source": [
    "model.save(\"mnist_model.h5\")"
   ]
  },
  {
   "cell_type": "code",
   "execution_count": 49,
   "id": "cbfe3961-81df-404e-adff-b2dcb745ccaf",
   "metadata": {},
   "outputs": [],
   "source": [
    "import random"
   ]
  },
  {
   "cell_type": "code",
   "execution_count": 50,
   "id": "7c61885e-d94d-4149-9805-593a1ea092b9",
   "metadata": {},
   "outputs": [],
   "source": [
    "random = random.randint(0 , x_test.shape[0])"
   ]
  },
  {
   "cell_type": "code",
   "execution_count": 51,
   "id": "a7f05a63-736e-4d5c-baa1-2dc5f902658b",
   "metadata": {},
   "outputs": [
    {
     "data": {
      "text/plain": [
       "4333"
      ]
     },
     "execution_count": 51,
     "metadata": {},
     "output_type": "execute_result"
    }
   ],
   "source": [
    "random"
   ]
  },
  {
   "cell_type": "code",
   "execution_count": 52,
   "id": "ab198210-e347-496d-9aab-6da7f8970ed2",
   "metadata": {},
   "outputs": [],
   "source": [
    "test_image = x_test[random]"
   ]
  },
  {
   "cell_type": "code",
   "execution_count": 53,
   "id": "a5e1fc7b-0c1e-45b0-bf92-43ba4425c5e6",
   "metadata": {},
   "outputs": [
    {
     "data": {
      "text/plain": [
       "array([0., 0., 0., 0., 0., 0., 0., 0., 0., 1.], dtype=float32)"
      ]
     },
     "execution_count": 53,
     "metadata": {},
     "output_type": "execute_result"
    }
   ],
   "source": [
    "y_test[random]"
   ]
  },
  {
   "cell_type": "code",
   "execution_count": 54,
   "id": "089ca798-8320-49e4-a223-646a45571d3f",
   "metadata": {},
   "outputs": [],
   "source": [
    "test_data = x_test[random].reshape(1,28,28,1)"
   ]
  },
  {
   "cell_type": "code",
   "execution_count": 55,
   "id": "5a8de838-ad50-45bc-8705-6cb88c4adb42",
   "metadata": {},
   "outputs": [
    {
     "name": "stdout",
     "output_type": "stream",
     "text": [
      "1/1 [==============================] - 0s 71ms/step\n"
     ]
    }
   ],
   "source": [
    "probablibility = model.predict(test_data)"
   ]
  },
  {
   "cell_type": "code",
   "execution_count": 57,
   "id": "e07f0610-3882-45d9-a276-c991eca6ca0b",
   "metadata": {},
   "outputs": [
    {
     "data": {
      "text/plain": [
       "array([[1.4549437e-09, 3.9729765e-14, 2.0305578e-13, 7.7472848e-08,\n",
       "        1.1804763e-07, 5.4012470e-09, 4.0412993e-16, 1.2819549e-05,\n",
       "        5.2642659e-09, 9.9998701e-01]], dtype=float32)"
      ]
     },
     "execution_count": 57,
     "metadata": {},
     "output_type": "execute_result"
    }
   ],
   "source": [
    "probablibility"
   ]
  },
  {
   "cell_type": "code",
   "execution_count": 58,
   "id": "ef69aeb1-5330-48b0-b8ef-9aea765aeb37",
   "metadata": {},
   "outputs": [],
   "source": [
    "predictid_classes = np.argmax(probablibility)"
   ]
  },
  {
   "cell_type": "code",
   "execution_count": 59,
   "id": "8532bcc2-7558-412d-a76c-f7750d22d157",
   "metadata": {},
   "outputs": [
    {
     "data": {
      "text/plain": [
       "9"
      ]
     },
     "execution_count": 59,
     "metadata": {},
     "output_type": "execute_result"
    }
   ],
   "source": [
    "predictid_classes"
   ]
  },
  {
   "cell_type": "code",
   "execution_count": null,
   "id": "6adbbe90-e6a9-4645-a783-7879d0fa5ea9",
   "metadata": {},
   "outputs": [],
   "source": []
  }
 ],
 "metadata": {
  "kernelspec": {
   "display_name": "Python 3 (ipykernel)",
   "language": "python",
   "name": "python3"
  },
  "language_info": {
   "codemirror_mode": {
    "name": "ipython",
    "version": 3
   },
   "file_extension": ".py",
   "mimetype": "text/x-python",
   "name": "python",
   "nbconvert_exporter": "python",
   "pygments_lexer": "ipython3",
   "version": "3.9.12"
  }
 },
 "nbformat": 4,
 "nbformat_minor": 5
}
