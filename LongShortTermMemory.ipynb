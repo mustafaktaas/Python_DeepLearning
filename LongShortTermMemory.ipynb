{
 "cells": [
  {
   "cell_type": "markdown",
   "id": "a432c952-2b51-40dc-83c1-4eb256cbcebe",
   "metadata": {},
   "source": [
    "# LSTM ile Hisse Senedi Fİyatı Tahminlemesi"
   ]
  },
  {
   "cell_type": "code",
   "execution_count": 18,
   "id": "af5ecb90-496c-4ab3-9bfb-f4b2313545fd",
   "metadata": {},
   "outputs": [
    {
     "name": "stdout",
     "output_type": "stream",
     "text": [
      "[*********************100%***********************]  1 of 1 completed\n"
     ]
    },
    {
     "data": {
      "text/html": [
       "<div>\n",
       "<style scoped>\n",
       "    .dataframe tbody tr th:only-of-type {\n",
       "        vertical-align: middle;\n",
       "    }\n",
       "\n",
       "    .dataframe tbody tr th {\n",
       "        vertical-align: top;\n",
       "    }\n",
       "\n",
       "    .dataframe thead th {\n",
       "        text-align: right;\n",
       "    }\n",
       "</style>\n",
       "<table border=\"1\" class=\"dataframe\">\n",
       "  <thead>\n",
       "    <tr style=\"text-align: right;\">\n",
       "      <th></th>\n",
       "      <th>Open</th>\n",
       "      <th>High</th>\n",
       "      <th>Low</th>\n",
       "      <th>Close</th>\n",
       "      <th>Adj Close</th>\n",
       "      <th>Volume</th>\n",
       "    </tr>\n",
       "    <tr>\n",
       "      <th>Date</th>\n",
       "      <th></th>\n",
       "      <th></th>\n",
       "      <th></th>\n",
       "      <th></th>\n",
       "      <th></th>\n",
       "      <th></th>\n",
       "    </tr>\n",
       "  </thead>\n",
       "  <tbody>\n",
       "    <tr>\n",
       "      <th>2010-06-29 00:00:00-04:00</th>\n",
       "      <td>1.266667</td>\n",
       "      <td>1.666667</td>\n",
       "      <td>1.169333</td>\n",
       "      <td>1.592667</td>\n",
       "      <td>1.592667</td>\n",
       "      <td>281494500</td>\n",
       "    </tr>\n",
       "    <tr>\n",
       "      <th>2010-06-30 00:00:00-04:00</th>\n",
       "      <td>1.719333</td>\n",
       "      <td>2.028000</td>\n",
       "      <td>1.553333</td>\n",
       "      <td>1.588667</td>\n",
       "      <td>1.588667</td>\n",
       "      <td>257806500</td>\n",
       "    </tr>\n",
       "    <tr>\n",
       "      <th>2010-07-01 00:00:00-04:00</th>\n",
       "      <td>1.666667</td>\n",
       "      <td>1.728000</td>\n",
       "      <td>1.351333</td>\n",
       "      <td>1.464000</td>\n",
       "      <td>1.464000</td>\n",
       "      <td>123282000</td>\n",
       "    </tr>\n",
       "    <tr>\n",
       "      <th>2010-07-02 00:00:00-04:00</th>\n",
       "      <td>1.533333</td>\n",
       "      <td>1.540000</td>\n",
       "      <td>1.247333</td>\n",
       "      <td>1.280000</td>\n",
       "      <td>1.280000</td>\n",
       "      <td>77097000</td>\n",
       "    </tr>\n",
       "    <tr>\n",
       "      <th>2010-07-06 00:00:00-04:00</th>\n",
       "      <td>1.333333</td>\n",
       "      <td>1.333333</td>\n",
       "      <td>1.055333</td>\n",
       "      <td>1.074000</td>\n",
       "      <td>1.074000</td>\n",
       "      <td>103003500</td>\n",
       "    </tr>\n",
       "  </tbody>\n",
       "</table>\n",
       "</div>"
      ],
      "text/plain": [
       "                               Open      High       Low     Close  Adj Close  \\\n",
       "Date                                                                           \n",
       "2010-06-29 00:00:00-04:00  1.266667  1.666667  1.169333  1.592667   1.592667   \n",
       "2010-06-30 00:00:00-04:00  1.719333  2.028000  1.553333  1.588667   1.588667   \n",
       "2010-07-01 00:00:00-04:00  1.666667  1.728000  1.351333  1.464000   1.464000   \n",
       "2010-07-02 00:00:00-04:00  1.533333  1.540000  1.247333  1.280000   1.280000   \n",
       "2010-07-06 00:00:00-04:00  1.333333  1.333333  1.055333  1.074000   1.074000   \n",
       "\n",
       "                              Volume  \n",
       "Date                                  \n",
       "2010-06-29 00:00:00-04:00  281494500  \n",
       "2010-06-30 00:00:00-04:00  257806500  \n",
       "2010-07-01 00:00:00-04:00  123282000  \n",
       "2010-07-02 00:00:00-04:00   77097000  \n",
       "2010-07-06 00:00:00-04:00  103003500  "
      ]
     },
     "execution_count": 18,
     "metadata": {},
     "output_type": "execute_result"
    }
   ],
   "source": [
    "import math \n",
    "import numpy as np \n",
    "import pandas as pd \n",
    "from datetime import date, timedelta, datetime\n",
    "from pandas.plotting import register_matplotlib_converters\n",
    "import matplotlib.pyplot as plt \n",
    "import matplotlib.dates as mdates \n",
    "import tensorflow as tf\n",
    "from sklearn.metrics import mean_absolute_error, mean_squared_error\n",
    "from tensorflow.keras import Sequential \n",
    "from tensorflow.keras.layers import LSTM, Dense, Dropout \n",
    "from tensorflow.keras.callbacks import EarlyStopping,ModelCheckpoint\n",
    "from sklearn.preprocessing import RobustScaler, MinMaxScaler \n",
    "import seaborn as sns \n",
    "\n",
    "end_date =  '2021-06-29'\n",
    "start_date = '2010-01-01'\n",
    "\n",
    "stockname = 'Tesla'\n",
    "symbol = 'TSLA'\n",
    "\n",
    "import yfinance as yf \n",
    "df = yf.download(symbol, start=start_date, end=end_date)\n",
    "\n",
    "df.head()"
   ]
  },
  {
   "cell_type": "code",
   "execution_count": 19,
   "id": "ff3b0403-a92e-46c9-9c98-c7a4ed8c7361",
   "metadata": {},
   "outputs": [],
   "source": [
    "df = df.reset_index()"
   ]
  },
  {
   "cell_type": "code",
   "execution_count": 20,
   "id": "9e8561a0-6faf-46ef-b6d1-117dd2202723",
   "metadata": {},
   "outputs": [],
   "source": [
    "df.columns = df.columns.str.lower()"
   ]
  },
  {
   "cell_type": "code",
   "execution_count": 21,
   "id": "155b3c20-395d-4d89-89c9-6e79b06fc2f1",
   "metadata": {},
   "outputs": [
    {
     "data": {
      "text/html": [
       "<div>\n",
       "<style scoped>\n",
       "    .dataframe tbody tr th:only-of-type {\n",
       "        vertical-align: middle;\n",
       "    }\n",
       "\n",
       "    .dataframe tbody tr th {\n",
       "        vertical-align: top;\n",
       "    }\n",
       "\n",
       "    .dataframe thead th {\n",
       "        text-align: right;\n",
       "    }\n",
       "</style>\n",
       "<table border=\"1\" class=\"dataframe\">\n",
       "  <thead>\n",
       "    <tr style=\"text-align: right;\">\n",
       "      <th></th>\n",
       "      <th>date</th>\n",
       "      <th>open</th>\n",
       "      <th>high</th>\n",
       "      <th>low</th>\n",
       "      <th>close</th>\n",
       "      <th>adj close</th>\n",
       "      <th>volume</th>\n",
       "    </tr>\n",
       "  </thead>\n",
       "  <tbody>\n",
       "    <tr>\n",
       "      <th>0</th>\n",
       "      <td>2010-06-29 00:00:00-04:00</td>\n",
       "      <td>1.266667</td>\n",
       "      <td>1.666667</td>\n",
       "      <td>1.169333</td>\n",
       "      <td>1.592667</td>\n",
       "      <td>1.592667</td>\n",
       "      <td>281494500</td>\n",
       "    </tr>\n",
       "    <tr>\n",
       "      <th>1</th>\n",
       "      <td>2010-06-30 00:00:00-04:00</td>\n",
       "      <td>1.719333</td>\n",
       "      <td>2.028000</td>\n",
       "      <td>1.553333</td>\n",
       "      <td>1.588667</td>\n",
       "      <td>1.588667</td>\n",
       "      <td>257806500</td>\n",
       "    </tr>\n",
       "    <tr>\n",
       "      <th>2</th>\n",
       "      <td>2010-07-01 00:00:00-04:00</td>\n",
       "      <td>1.666667</td>\n",
       "      <td>1.728000</td>\n",
       "      <td>1.351333</td>\n",
       "      <td>1.464000</td>\n",
       "      <td>1.464000</td>\n",
       "      <td>123282000</td>\n",
       "    </tr>\n",
       "    <tr>\n",
       "      <th>3</th>\n",
       "      <td>2010-07-02 00:00:00-04:00</td>\n",
       "      <td>1.533333</td>\n",
       "      <td>1.540000</td>\n",
       "      <td>1.247333</td>\n",
       "      <td>1.280000</td>\n",
       "      <td>1.280000</td>\n",
       "      <td>77097000</td>\n",
       "    </tr>\n",
       "    <tr>\n",
       "      <th>4</th>\n",
       "      <td>2010-07-06 00:00:00-04:00</td>\n",
       "      <td>1.333333</td>\n",
       "      <td>1.333333</td>\n",
       "      <td>1.055333</td>\n",
       "      <td>1.074000</td>\n",
       "      <td>1.074000</td>\n",
       "      <td>103003500</td>\n",
       "    </tr>\n",
       "  </tbody>\n",
       "</table>\n",
       "</div>"
      ],
      "text/plain": [
       "                       date      open      high       low     close  \\\n",
       "0 2010-06-29 00:00:00-04:00  1.266667  1.666667  1.169333  1.592667   \n",
       "1 2010-06-30 00:00:00-04:00  1.719333  2.028000  1.553333  1.588667   \n",
       "2 2010-07-01 00:00:00-04:00  1.666667  1.728000  1.351333  1.464000   \n",
       "3 2010-07-02 00:00:00-04:00  1.533333  1.540000  1.247333  1.280000   \n",
       "4 2010-07-06 00:00:00-04:00  1.333333  1.333333  1.055333  1.074000   \n",
       "\n",
       "   adj close     volume  \n",
       "0   1.592667  281494500  \n",
       "1   1.588667  257806500  \n",
       "2   1.464000  123282000  \n",
       "3   1.280000   77097000  \n",
       "4   1.074000  103003500  "
      ]
     },
     "execution_count": 21,
     "metadata": {},
     "output_type": "execute_result"
    }
   ],
   "source": [
    "df.head()"
   ]
  },
  {
   "cell_type": "code",
   "execution_count": 22,
   "id": "a3d648d1-b7c1-4b89-ba1c-cdf66eaaa541",
   "metadata": {},
   "outputs": [],
   "source": [
    "df['date'] = df['date'].dt.strftime('%Y/%m/%d')"
   ]
  },
  {
   "cell_type": "code",
   "execution_count": 23,
   "id": "d0e29991-0512-4a81-9b55-a1879ee8d43d",
   "metadata": {},
   "outputs": [
    {
     "data": {
      "text/html": [
       "<div>\n",
       "<style scoped>\n",
       "    .dataframe tbody tr th:only-of-type {\n",
       "        vertical-align: middle;\n",
       "    }\n",
       "\n",
       "    .dataframe tbody tr th {\n",
       "        vertical-align: top;\n",
       "    }\n",
       "\n",
       "    .dataframe thead th {\n",
       "        text-align: right;\n",
       "    }\n",
       "</style>\n",
       "<table border=\"1\" class=\"dataframe\">\n",
       "  <thead>\n",
       "    <tr style=\"text-align: right;\">\n",
       "      <th></th>\n",
       "      <th>date</th>\n",
       "      <th>open</th>\n",
       "      <th>high</th>\n",
       "      <th>low</th>\n",
       "      <th>close</th>\n",
       "      <th>adj close</th>\n",
       "      <th>volume</th>\n",
       "    </tr>\n",
       "  </thead>\n",
       "  <tbody>\n",
       "    <tr>\n",
       "      <th>0</th>\n",
       "      <td>2010/06/29</td>\n",
       "      <td>1.266667</td>\n",
       "      <td>1.666667</td>\n",
       "      <td>1.169333</td>\n",
       "      <td>1.592667</td>\n",
       "      <td>1.592667</td>\n",
       "      <td>281494500</td>\n",
       "    </tr>\n",
       "    <tr>\n",
       "      <th>1</th>\n",
       "      <td>2010/06/30</td>\n",
       "      <td>1.719333</td>\n",
       "      <td>2.028000</td>\n",
       "      <td>1.553333</td>\n",
       "      <td>1.588667</td>\n",
       "      <td>1.588667</td>\n",
       "      <td>257806500</td>\n",
       "    </tr>\n",
       "    <tr>\n",
       "      <th>2</th>\n",
       "      <td>2010/07/01</td>\n",
       "      <td>1.666667</td>\n",
       "      <td>1.728000</td>\n",
       "      <td>1.351333</td>\n",
       "      <td>1.464000</td>\n",
       "      <td>1.464000</td>\n",
       "      <td>123282000</td>\n",
       "    </tr>\n",
       "    <tr>\n",
       "      <th>3</th>\n",
       "      <td>2010/07/02</td>\n",
       "      <td>1.533333</td>\n",
       "      <td>1.540000</td>\n",
       "      <td>1.247333</td>\n",
       "      <td>1.280000</td>\n",
       "      <td>1.280000</td>\n",
       "      <td>77097000</td>\n",
       "    </tr>\n",
       "    <tr>\n",
       "      <th>4</th>\n",
       "      <td>2010/07/06</td>\n",
       "      <td>1.333333</td>\n",
       "      <td>1.333333</td>\n",
       "      <td>1.055333</td>\n",
       "      <td>1.074000</td>\n",
       "      <td>1.074000</td>\n",
       "      <td>103003500</td>\n",
       "    </tr>\n",
       "  </tbody>\n",
       "</table>\n",
       "</div>"
      ],
      "text/plain": [
       "         date      open      high       low     close  adj close     volume\n",
       "0  2010/06/29  1.266667  1.666667  1.169333  1.592667   1.592667  281494500\n",
       "1  2010/06/30  1.719333  2.028000  1.553333  1.588667   1.588667  257806500\n",
       "2  2010/07/01  1.666667  1.728000  1.351333  1.464000   1.464000  123282000\n",
       "3  2010/07/02  1.533333  1.540000  1.247333  1.280000   1.280000   77097000\n",
       "4  2010/07/06  1.333333  1.333333  1.055333  1.074000   1.074000  103003500"
      ]
     },
     "execution_count": 23,
     "metadata": {},
     "output_type": "execute_result"
    }
   ],
   "source": [
    "df.head()"
   ]
  },
  {
   "cell_type": "code",
   "execution_count": 24,
   "id": "7a61c8fd-9ccf-44ca-8dd5-a57b144311c3",
   "metadata": {},
   "outputs": [
    {
     "data": {
      "text/plain": [
       "date          object\n",
       "open         float64\n",
       "high         float64\n",
       "low          float64\n",
       "close        float64\n",
       "adj close    float64\n",
       "volume         int64\n",
       "dtype: object"
      ]
     },
     "execution_count": 24,
     "metadata": {},
     "output_type": "execute_result"
    }
   ],
   "source": [
    "df.dtypes"
   ]
  },
  {
   "cell_type": "markdown",
   "id": "2625243b-553d-469d-b2cd-f2e7e9ba5528",
   "metadata": {},
   "source": [
    "Objeyi tarihe çevirmeliyiz"
   ]
  },
  {
   "cell_type": "code",
   "execution_count": 25,
   "id": "bcc6efe1-b25d-4070-ab93-b2d0fafb71b4",
   "metadata": {},
   "outputs": [],
   "source": [
    "df[\"date\"] = pd.to_datetime(df[\"date\"])"
   ]
  },
  {
   "cell_type": "code",
   "execution_count": 26,
   "id": "24b123b6-0864-46c0-a145-f7c4f5432b24",
   "metadata": {},
   "outputs": [],
   "source": [
    "tesla_df = df[[\"date\",\"close\"]]"
   ]
  },
  {
   "cell_type": "code",
   "execution_count": 27,
   "id": "5bc454df-e145-4c50-a980-486cf34ff4d6",
   "metadata": {},
   "outputs": [
    {
     "data": {
      "text/html": [
       "<div>\n",
       "<style scoped>\n",
       "    .dataframe tbody tr th:only-of-type {\n",
       "        vertical-align: middle;\n",
       "    }\n",
       "\n",
       "    .dataframe tbody tr th {\n",
       "        vertical-align: top;\n",
       "    }\n",
       "\n",
       "    .dataframe thead th {\n",
       "        text-align: right;\n",
       "    }\n",
       "</style>\n",
       "<table border=\"1\" class=\"dataframe\">\n",
       "  <thead>\n",
       "    <tr style=\"text-align: right;\">\n",
       "      <th></th>\n",
       "      <th>date</th>\n",
       "      <th>close</th>\n",
       "    </tr>\n",
       "  </thead>\n",
       "  <tbody>\n",
       "    <tr>\n",
       "      <th>0</th>\n",
       "      <td>2010-06-29</td>\n",
       "      <td>1.592667</td>\n",
       "    </tr>\n",
       "    <tr>\n",
       "      <th>1</th>\n",
       "      <td>2010-06-30</td>\n",
       "      <td>1.588667</td>\n",
       "    </tr>\n",
       "    <tr>\n",
       "      <th>2</th>\n",
       "      <td>2010-07-01</td>\n",
       "      <td>1.464000</td>\n",
       "    </tr>\n",
       "    <tr>\n",
       "      <th>3</th>\n",
       "      <td>2010-07-02</td>\n",
       "      <td>1.280000</td>\n",
       "    </tr>\n",
       "    <tr>\n",
       "      <th>4</th>\n",
       "      <td>2010-07-06</td>\n",
       "      <td>1.074000</td>\n",
       "    </tr>\n",
       "  </tbody>\n",
       "</table>\n",
       "</div>"
      ],
      "text/plain": [
       "        date     close\n",
       "0 2010-06-29  1.592667\n",
       "1 2010-06-30  1.588667\n",
       "2 2010-07-01  1.464000\n",
       "3 2010-07-02  1.280000\n",
       "4 2010-07-06  1.074000"
      ]
     },
     "execution_count": 27,
     "metadata": {},
     "output_type": "execute_result"
    }
   ],
   "source": [
    "tesla_df.head()"
   ]
  },
  {
   "cell_type": "code",
   "execution_count": 28,
   "id": "fb4630e6-e18f-4473-991b-311c97253fbd",
   "metadata": {},
   "outputs": [],
   "source": [
    "tesla_df.index = tesla_df[\"date\"]"
   ]
  },
  {
   "cell_type": "code",
   "execution_count": 30,
   "id": "419b5d33-6bf6-4e32-81bf-c6fc8ffe268c",
   "metadata": {},
   "outputs": [
    {
     "name": "stderr",
     "output_type": "stream",
     "text": [
      "C:\\Users\\Mustafa\\AppData\\Local\\Temp\\ipykernel_3516\\1184339053.py:1: SettingWithCopyWarning: \n",
      "A value is trying to be set on a copy of a slice from a DataFrame\n",
      "\n",
      "See the caveats in the documentation: https://pandas.pydata.org/pandas-docs/stable/user_guide/indexing.html#returning-a-view-versus-a-copy\n",
      "  tesla_df.drop(\"date\",axis = 1,inplace=True)\n"
     ]
    }
   ],
   "source": [
    "tesla_df.drop(\"date\",axis = 1,inplace=True)"
   ]
  },
  {
   "cell_type": "code",
   "execution_count": 31,
   "id": "8bd793d3-7afd-4585-b533-a5c0c87a9528",
   "metadata": {},
   "outputs": [
    {
     "data": {
      "text/html": [
       "<div>\n",
       "<style scoped>\n",
       "    .dataframe tbody tr th:only-of-type {\n",
       "        vertical-align: middle;\n",
       "    }\n",
       "\n",
       "    .dataframe tbody tr th {\n",
       "        vertical-align: top;\n",
       "    }\n",
       "\n",
       "    .dataframe thead th {\n",
       "        text-align: right;\n",
       "    }\n",
       "</style>\n",
       "<table border=\"1\" class=\"dataframe\">\n",
       "  <thead>\n",
       "    <tr style=\"text-align: right;\">\n",
       "      <th></th>\n",
       "      <th>close</th>\n",
       "    </tr>\n",
       "    <tr>\n",
       "      <th>date</th>\n",
       "      <th></th>\n",
       "    </tr>\n",
       "  </thead>\n",
       "  <tbody>\n",
       "    <tr>\n",
       "      <th>2010-06-29</th>\n",
       "      <td>1.592667</td>\n",
       "    </tr>\n",
       "    <tr>\n",
       "      <th>2010-06-30</th>\n",
       "      <td>1.588667</td>\n",
       "    </tr>\n",
       "    <tr>\n",
       "      <th>2010-07-01</th>\n",
       "      <td>1.464000</td>\n",
       "    </tr>\n",
       "    <tr>\n",
       "      <th>2010-07-02</th>\n",
       "      <td>1.280000</td>\n",
       "    </tr>\n",
       "    <tr>\n",
       "      <th>2010-07-06</th>\n",
       "      <td>1.074000</td>\n",
       "    </tr>\n",
       "    <tr>\n",
       "      <th>...</th>\n",
       "      <td>...</td>\n",
       "    </tr>\n",
       "    <tr>\n",
       "      <th>2021-06-22</th>\n",
       "      <td>207.903336</td>\n",
       "    </tr>\n",
       "    <tr>\n",
       "      <th>2021-06-23</th>\n",
       "      <td>218.856674</td>\n",
       "    </tr>\n",
       "    <tr>\n",
       "      <th>2021-06-24</th>\n",
       "      <td>226.606674</td>\n",
       "    </tr>\n",
       "    <tr>\n",
       "      <th>2021-06-25</th>\n",
       "      <td>223.956665</td>\n",
       "    </tr>\n",
       "    <tr>\n",
       "      <th>2021-06-28</th>\n",
       "      <td>229.573334</td>\n",
       "    </tr>\n",
       "  </tbody>\n",
       "</table>\n",
       "<p>2769 rows × 1 columns</p>\n",
       "</div>"
      ],
      "text/plain": [
       "                 close\n",
       "date                  \n",
       "2010-06-29    1.592667\n",
       "2010-06-30    1.588667\n",
       "2010-07-01    1.464000\n",
       "2010-07-02    1.280000\n",
       "2010-07-06    1.074000\n",
       "...                ...\n",
       "2021-06-22  207.903336\n",
       "2021-06-23  218.856674\n",
       "2021-06-24  226.606674\n",
       "2021-06-25  223.956665\n",
       "2021-06-28  229.573334\n",
       "\n",
       "[2769 rows x 1 columns]"
      ]
     },
     "execution_count": 31,
     "metadata": {},
     "output_type": "execute_result"
    }
   ],
   "source": [
    "tesla_df"
   ]
  },
  {
   "cell_type": "code",
   "execution_count": 32,
   "id": "76d74a9d-5056-4d12-b5ff-e0977e754cbb",
   "metadata": {},
   "outputs": [],
   "source": [
    "result_df = tesla_df.copy()"
   ]
  },
  {
   "cell_type": "code",
   "execution_count": 34,
   "id": "f9013961-12d1-4a4d-96a4-6b6f9e0f446a",
   "metadata": {},
   "outputs": [
    {
     "data": {
      "image/png": "[encoded data removed]",
      "text/plain": [
       "<Figure size 864x432 with 1 Axes>"
      ]
     },
     "metadata": {
      "needs_background": "light"
     },
     "output_type": "display_data"
    }
   ],
   "source": [
    "plt.figure(figsize = (12,6))\n",
    "plt.plot(tesla_df[\"close\"],color = \"blue\")\n",
    "plt.show()"
   ]
  },
  {
   "cell_type": "code",
   "execution_count": 35,
   "id": "e445c47e-05bc-46b4-bea0-9fe98e3f8897",
   "metadata": {},
   "outputs": [],
   "source": [
    "tesla_df = tesla_df.values"
   ]
  },
  {
   "cell_type": "code",
   "execution_count": 36,
   "id": "deb922d3-8719-4310-94df-ba1ebe922734",
   "metadata": {},
   "outputs": [
    {
     "data": {
      "text/plain": [
       "array([[1.59266698],\n",
       "       [1.58866704],\n",
       "       [1.46399999],\n",
       "       [1.27999997],\n",
       "       [1.074     ]])"
      ]
     },
     "execution_count": 36,
     "metadata": {},
     "output_type": "execute_result"
    }
   ],
   "source": [
    "tesla_df[0:5]"
   ]
  },
  {
   "cell_type": "code",
   "execution_count": 37,
   "id": "ea20a1d1-7eb3-4f72-be2d-0807936fb4dc",
   "metadata": {},
   "outputs": [],
   "source": [
    "tesla_df = tesla_df.astype(\"float32\")"
   ]
  },
  {
   "cell_type": "markdown",
   "id": "5a930fd6-3063-4317-b9ef-3081310805ea",
   "metadata": {},
   "source": [
    "### Train TestSeti Ayrımı"
   ]
  },
  {
   "cell_type": "code",
   "execution_count": 38,
   "id": "27e609b0-e20e-4123-ad80-a075feb44f88",
   "metadata": {},
   "outputs": [],
   "source": [
    "def split_data(dataframe,test_size):\n",
    "    pos = int(round(len(dataframe)*(1-test_size)))\n",
    "    train = dataframe[:pos]\n",
    "    test = dataframe[pos:]\n",
    "    return train,test,pos"
   ]
  },
  {
   "cell_type": "code",
   "execution_count": 39,
   "id": "6dde71d9-f5be-4075-ba82-a6b39f0fc2a6",
   "metadata": {},
   "outputs": [],
   "source": [
    "train,test,pos = split_data(tesla_df,0.20)"
   ]
  },
  {
   "cell_type": "code",
   "execution_count": 40,
   "id": "db0266d0-d013-4ded-bc92-50f638fa0aba",
   "metadata": {},
   "outputs": [
    {
     "data": {
      "text/plain": [
       "((2215, 1), (554, 1))"
      ]
     },
     "execution_count": 40,
     "metadata": {},
     "output_type": "execute_result"
    }
   ],
   "source": [
    "train.shape,test.shape"
   ]
  },
  {
   "cell_type": "markdown",
   "id": "43134884-c2ef-46ac-9dc5-b3cfb5e2391b",
   "metadata": {},
   "source": [
    "### MinMaxScaler ile 0-1 arasında standartlaştırma"
   ]
  },
  {
   "cell_type": "code",
   "execution_count": 42,
   "id": "be472a47-f071-4e24-88ba-e009025b5d88",
   "metadata": {},
   "outputs": [],
   "source": [
    "scaler_train = MinMaxScaler(feature_range = (0,1))"
   ]
  },
  {
   "cell_type": "code",
   "execution_count": 43,
   "id": "feb69414-3ac5-4e1b-9dbe-a049be4f72ae",
   "metadata": {},
   "outputs": [],
   "source": [
    "train = scaler_train.fit_transform(train)"
   ]
  },
  {
   "cell_type": "code",
   "execution_count": 44,
   "id": "21e35d00-8d23-447d-b451-4ebf4279e7d4",
   "metadata": {},
   "outputs": [],
   "source": [
    "scaler_test = MinMaxScaler(feature_range = (0,1))"
   ]
  },
  {
   "cell_type": "code",
   "execution_count": 45,
   "id": "1727dded-ba36-4b45-ae68-ba627b7e9d54",
   "metadata": {},
   "outputs": [],
   "source": [
    "test = scaler_train.fit_transform(test)"
   ]
  },
  {
   "cell_type": "code",
   "execution_count": 46,
   "id": "d9474b6f-758e-445a-9764-f07bca371d8a",
   "metadata": {},
   "outputs": [
    {
     "data": {
      "text/plain": [
       "array([[0.02191227],\n",
       "       [0.02174976],\n",
       "       [0.01668474],\n",
       "       [0.00920911],\n",
       "       [0.00083967]], dtype=float32)"
      ]
     },
     "execution_count": 46,
     "metadata": {},
     "output_type": "execute_result"
    }
   ],
   "source": [
    "train[0:5]"
   ]
  },
  {
   "cell_type": "code",
   "execution_count": 47,
   "id": "466ba9cd-0e31-48f2-b2b2-b336a7110960",
   "metadata": {},
   "outputs": [
    {
     "data": {
      "text/plain": [
       "array([[0.02177751],\n",
       "       [0.02225668],\n",
       "       [0.01977585],\n",
       "       [0.0200473 ],\n",
       "       [0.01881042]], dtype=float32)"
      ]
     },
     "execution_count": 47,
     "metadata": {},
     "output_type": "execute_result"
    }
   ],
   "source": [
    "test[0:5]"
   ]
  },
  {
   "cell_type": "code",
   "execution_count": 48,
   "id": "60145c62-0ce5-4858-80d6-2dc560e4e0ac",
   "metadata": {},
   "outputs": [],
   "source": [
    "def create_features(data,lookback):\n",
    "    X,Y = [],[]\n",
    "    for i in range(lookback,len(data)):\n",
    "        X.append(data[i-lookback:i,0])\n",
    "        Y.append(data[i,0])\n",
    "        \n",
    "    return np.array(X),np.array(Y)"
   ]
  },
  {
   "cell_type": "code",
   "execution_count": 49,
   "id": "a230628d-ee2a-4bdf-b856-4cabadf4a983",
   "metadata": {},
   "outputs": [],
   "source": [
    "lookback = 20"
   ]
  },
  {
   "cell_type": "code",
   "execution_count": 50,
   "id": "0a514832-6916-4afd-8b18-d7a834893be2",
   "metadata": {},
   "outputs": [],
   "source": [
    "X_train,y_train = create_features(train,lookback)"
   ]
  },
  {
   "cell_type": "code",
   "execution_count": 51,
   "id": "6d277e57-5bfb-4a3f-b196-e7caa54b89fa",
   "metadata": {},
   "outputs": [],
   "source": [
    "X_test,y_test = create_features(test,lookback)"
   ]
  },
  {
   "cell_type": "code",
   "execution_count": 53,
   "id": "6ccc5728-f50b-4fc0-b90e-d5446dab1339",
   "metadata": {},
   "outputs": [
    {
     "data": {
      "text/plain": [
       "((2195, 20), (534, 20), (2195,), (534,))"
      ]
     },
     "execution_count": 53,
     "metadata": {},
     "output_type": "execute_result"
    }
   ],
   "source": [
    "X_train.shape,X_test.shape,y_train.shape,y_test.shape"
   ]
  },
  {
   "cell_type": "code",
   "execution_count": 55,
   "id": "a3045843-f50c-4f52-bc57-8f575fedf9cb",
   "metadata": {},
   "outputs": [],
   "source": [
    "X_train = np.reshape(X_train,(X_train.shape[0],1,X_train.shape[1]))\n",
    "X_test = np.reshape(X_test,(X_test.shape[0],1,X_test.shape[1]))\n",
    "\n",
    "y_train = y_train.reshape(-1,1)\n",
    "y_test = y_test.reshape(-1,1)"
   ]
  },
  {
   "cell_type": "code",
   "execution_count": 56,
   "id": "8897bc99-916a-4488-adb3-4637f56c0085",
   "metadata": {},
   "outputs": [
    {
     "data": {
      "text/plain": [
       "((2195, 1, 20), (534, 1, 20), (2195, 1), (534, 1))"
      ]
     },
     "execution_count": 56,
     "metadata": {},
     "output_type": "execute_result"
    }
   ],
   "source": [
    "X_train.shape,X_test.shape,y_train.shape,y_test.shape"
   ]
  },
  {
   "cell_type": "markdown",
   "id": "b5979663-81b5-4769-8de4-4680eff5340b",
   "metadata": {},
   "source": [
    "## Modellleme"
   ]
  },
  {
   "cell_type": "code",
   "execution_count": 59,
   "id": "b88b327f-710b-480f-b8b4-4abfc98d3f54",
   "metadata": {},
   "outputs": [],
   "source": [
    "model = Sequential()\n",
    "\n",
    "model.add(LSTM(units = 50,activation = \"relu\" ,input_shape=(X_train.shape[1], lookback))) \n",
    "model.add(Dropout(0.2))\n",
    "model.add(Dense(1))"
   ]
  },
  {
   "cell_type": "code",
   "execution_count": 60,
   "id": "7a2d0c2b-e2e4-44fe-8592-ac02a0769472",
   "metadata": {},
   "outputs": [],
   "source": [
    "model.compile(optimizer='adam', loss='mse')"
   ]
  },
  {
   "cell_type": "code",
   "execution_count": 63,
   "id": "005fa348-0621-4659-befd-7f3d2cc75009",
   "metadata": {},
   "outputs": [],
   "source": [
    "callbacks = [EarlyStopping(monitor = \"val_loss\",patience = 3,verbose = 1,mode = \"min\"),\n",
    "             ModelCheckpoint(filepath = \"lstmmodel.h5\",monitor = \"val_loss\",mode = \"min\",save_best_only = True,save_weights_only = False,verbose = 1)]"
   ]
  },
  {
   "cell_type": "code",
   "execution_count": 64,
   "id": "bfbbcde5-fd68-4111-be75-f1bffd59d6ec",
   "metadata": {},
   "outputs": [
    {
     "name": "stdout",
     "output_type": "stream",
     "text": [
      "Epoch 1/100\n",
      "104/110 [===========================>..] - ETA: 0s - loss: 0.0057   \n",
      "Epoch 1: val_loss improved from inf to 0.00214, saving model to lstmmodel.h5\n",
      "110/110 [==============================] - 0s 2ms/step - loss: 0.0062 - val_loss: 0.0021\n",
      "Epoch 2/100\n",
      "104/110 [===========================>..] - ETA: 0s - loss: 0.0053\n",
      "Epoch 2: val_loss improved from 0.00214 to 0.00157, saving model to lstmmodel.h5\n",
      "110/110 [==============================] - 0s 2ms/step - loss: 0.0055 - val_loss: 0.0016\n",
      "Epoch 3/100\n",
      "104/110 [===========================>..] - ETA: 0s - loss: 0.0053   \n",
      "Epoch 3: val_loss did not improve from 0.00157\n",
      "110/110 [==============================] - 0s 2ms/step - loss: 0.0057 - val_loss: 0.0016\n",
      "Epoch 4/100\n",
      "102/110 [==========================>...] - ETA: 0s - loss: 0.0051\n",
      "Epoch 4: val_loss improved from 0.00157 to 0.00151, saving model to lstmmodel.h5\n",
      "110/110 [==============================] - 0s 2ms/step - loss: 0.0055 - val_loss: 0.0015\n",
      "Epoch 5/100\n",
      "104/110 [===========================>..] - ETA: 0s - loss: 0.0054   \n",
      "Epoch 5: val_loss did not improve from 0.00151\n",
      "110/110 [==============================] - 0s 2ms/step - loss: 0.0057 - val_loss: 0.0018\n",
      "Epoch 6/100\n",
      "103/110 [===========================>..] - ETA: 0s - loss: 0.0051   \n",
      "Epoch 6: val_loss improved from 0.00151 to 0.00124, saving model to lstmmodel.h5\n",
      "110/110 [==============================] - 0s 2ms/step - loss: 0.0053 - val_loss: 0.0012\n",
      "Epoch 7/100\n",
      " 97/110 [=========================>....] - ETA: 0s - loss: 0.0046   \n",
      "Epoch 7: val_loss improved from 0.00124 to 0.00120, saving model to lstmmodel.h5\n",
      "110/110 [==============================] - 0s 2ms/step - loss: 0.0055 - val_loss: 0.0012\n",
      "Epoch 8/100\n",
      "100/110 [==========================>...] - ETA: 0s - loss: 0.0048   \n",
      "Epoch 8: val_loss did not improve from 0.00120\n",
      "110/110 [==============================] - 0s 2ms/step - loss: 0.0053 - val_loss: 0.0015\n",
      "Epoch 9/100\n",
      "103/110 [===========================>..] - ETA: 0s - loss: 0.0048   \n",
      "Epoch 9: val_loss did not improve from 0.00120\n",
      "110/110 [==============================] - 0s 2ms/step - loss: 0.0053 - val_loss: 0.0014\n",
      "Epoch 10/100\n",
      "102/110 [==========================>...] - ETA: 0s - loss: 0.0049   \n",
      "Epoch 10: val_loss did not improve from 0.00120\n",
      "110/110 [==============================] - 0s 2ms/step - loss: 0.0054 - val_loss: 0.0015\n",
      "Epoch 10: early stopping\n"
     ]
    },
    {
     "data": {
      "text/plain": [
       "<keras.callbacks.History at 0x2789bb90e20>"
      ]
     },
     "execution_count": 64,
     "metadata": {},
     "output_type": "execute_result"
    }
   ],
   "source": [
    "model.fit(x = X_train,y = y_train,epochs = 100,batch_size = 20,validation_data = (X_test,y_test),callbacks = callbacks,shuffle = False)"
   ]
  },
  {
   "cell_type": "code",
   "execution_count": null,
   "id": "f652e295-d13b-43bb-883a-e2f6d62f93db",
   "metadata": {},
   "outputs": [],
   "source": [
    "### Loss grafiği çizdir."
   ]
  },
  {
   "cell_type": "markdown",
   "id": "a4c5770a-5ae0-49f2-a476-b15f102b9db7",
   "metadata": {},
   "source": [
    "## Değerlendirme"
   ]
  },
  {
   "cell_type": "code",
   "execution_count": 67,
   "id": "6fde0834-1bd2-443c-bbbd-8ddd71078ce8",
   "metadata": {},
   "outputs": [
    {
     "name": "stdout",
     "output_type": "stream",
     "text": [
      "69/69 [==============================] - 0s 1ms/step\n",
      "17/17 [==============================] - 0s 1ms/step\n"
     ]
    }
   ],
   "source": [
    "train_predict = model.predict(X_train)\n",
    "test_predict = model.predict(X_test)"
   ]
  },
  {
   "cell_type": "code",
   "execution_count": 68,
   "id": "373ec3c1-89e2-41e5-86ad-ed9fccc6413d",
   "metadata": {},
   "outputs": [
    {
     "ename": "NotFittedError",
     "evalue": "This MinMaxScaler instance is not fitted yet. Call 'fit' with appropriate arguments before using this estimator.",
     "output_type": "error",
     "traceback": [
      "\u001b[1;31m---------------------------------------------------------------------------\u001b[0m",
      "\u001b[1;31mNotFittedError\u001b[0m                            Traceback (most recent call last)",
      "Input \u001b[1;32mIn [68]\u001b[0m, in \u001b[0;36m<cell line: 2>\u001b[1;34m()\u001b[0m\n\u001b[0;32m      1\u001b[0m train_predict \u001b[38;5;241m=\u001b[39m scaler_train\u001b[38;5;241m.\u001b[39minverse_transform(train_predict)\n\u001b[1;32m----> 2\u001b[0m test_predict \u001b[38;5;241m=\u001b[39m \u001b[43mscaler_test\u001b[49m\u001b[38;5;241;43m.\u001b[39;49m\u001b[43minverse_transform\u001b[49m\u001b[43m(\u001b[49m\u001b[43mtest_predict\u001b[49m\u001b[43m)\u001b[49m\n",
      "File \u001b[1;32m~\\anaconda3\\lib\\site-packages\\sklearn\\preprocessing\\_data.py:523\u001b[0m, in \u001b[0;36mMinMaxScaler.inverse_transform\u001b[1;34m(self, X)\u001b[0m\n\u001b[0;32m    510\u001b[0m \u001b[38;5;28;01mdef\u001b[39;00m \u001b[38;5;21minverse_transform\u001b[39m(\u001b[38;5;28mself\u001b[39m, X):\n\u001b[0;32m    511\u001b[0m     \u001b[38;5;124;03m\"\"\"Undo the scaling of X according to feature_range.\u001b[39;00m\n\u001b[0;32m    512\u001b[0m \n\u001b[0;32m    513\u001b[0m \u001b[38;5;124;03m    Parameters\u001b[39;00m\n\u001b[1;32m   (...)\u001b[0m\n\u001b[0;32m    521\u001b[0m \u001b[38;5;124;03m        Transformed data.\u001b[39;00m\n\u001b[0;32m    522\u001b[0m \u001b[38;5;124;03m    \"\"\"\u001b[39;00m\n\u001b[1;32m--> 523\u001b[0m     \u001b[43mcheck_is_fitted\u001b[49m\u001b[43m(\u001b[49m\u001b[38;5;28;43mself\u001b[39;49m\u001b[43m)\u001b[49m\n\u001b[0;32m    525\u001b[0m     X \u001b[38;5;241m=\u001b[39m check_array(\n\u001b[0;32m    526\u001b[0m         X, copy\u001b[38;5;241m=\u001b[39m\u001b[38;5;28mself\u001b[39m\u001b[38;5;241m.\u001b[39mcopy, dtype\u001b[38;5;241m=\u001b[39mFLOAT_DTYPES, force_all_finite\u001b[38;5;241m=\u001b[39m\u001b[38;5;124m\"\u001b[39m\u001b[38;5;124mallow-nan\u001b[39m\u001b[38;5;124m\"\u001b[39m\n\u001b[0;32m    527\u001b[0m     )\n\u001b[0;32m    529\u001b[0m     X \u001b[38;5;241m-\u001b[39m\u001b[38;5;241m=\u001b[39m \u001b[38;5;28mself\u001b[39m\u001b[38;5;241m.\u001b[39mmin_\n",
      "File \u001b[1;32m~\\anaconda3\\lib\\site-packages\\sklearn\\utils\\validation.py:1222\u001b[0m, in \u001b[0;36mcheck_is_fitted\u001b[1;34m(estimator, attributes, msg, all_or_any)\u001b[0m\n\u001b[0;32m   1217\u001b[0m     fitted \u001b[38;5;241m=\u001b[39m [\n\u001b[0;32m   1218\u001b[0m         v \u001b[38;5;28;01mfor\u001b[39;00m v \u001b[38;5;129;01min\u001b[39;00m \u001b[38;5;28mvars\u001b[39m(estimator) \u001b[38;5;28;01mif\u001b[39;00m v\u001b[38;5;241m.\u001b[39mendswith(\u001b[38;5;124m\"\u001b[39m\u001b[38;5;124m_\u001b[39m\u001b[38;5;124m\"\u001b[39m) \u001b[38;5;129;01mand\u001b[39;00m \u001b[38;5;129;01mnot\u001b[39;00m v\u001b[38;5;241m.\u001b[39mstartswith(\u001b[38;5;124m\"\u001b[39m\u001b[38;5;124m__\u001b[39m\u001b[38;5;124m\"\u001b[39m)\n\u001b[0;32m   1219\u001b[0m     ]\n\u001b[0;32m   1221\u001b[0m \u001b[38;5;28;01mif\u001b[39;00m \u001b[38;5;129;01mnot\u001b[39;00m fitted:\n\u001b[1;32m-> 1222\u001b[0m     \u001b[38;5;28;01mraise\u001b[39;00m NotFittedError(msg \u001b[38;5;241m%\u001b[39m {\u001b[38;5;124m\"\u001b[39m\u001b[38;5;124mname\u001b[39m\u001b[38;5;124m\"\u001b[39m: \u001b[38;5;28mtype\u001b[39m(estimator)\u001b[38;5;241m.\u001b[39m\u001b[38;5;18m__name__\u001b[39m})\n",
      "\u001b[1;31mNotFittedError\u001b[0m: This MinMaxScaler instance is not fitted yet. Call 'fit' with appropriate arguments before using this estimator."
     ]
    }
   ],
   "source": [
    "train_predict = scaler_train.inverse_transform(train_predict)\n",
    "test_predict = scaler_test.inverse_transform(test_predict)"
   ]
  },
  {
   "cell_type": "code",
   "execution_count": null,
   "id": "9df179d0-32df-4e52-8965-594c762841a1",
   "metadata": {},
   "outputs": [],
   "source": []
  }
 ],
 "metadata": {
  "kernelspec": {
   "display_name": "Python 3 (ipykernel)",
   "language": "python",
   "name": "python3"
  },
  "language_info": {
   "codemirror_mode": {
    "name": "ipython",
    "version": 3
   },
   "file_extension": ".py",
   "mimetype": "text/x-python",
   "name": "python",
   "nbconvert_exporter": "python",
   "pygments_lexer": "ipython3",
   "version": "3.9.12"
  }
 },
 "nbformat": 4,
 "nbformat_minor": 5
}
