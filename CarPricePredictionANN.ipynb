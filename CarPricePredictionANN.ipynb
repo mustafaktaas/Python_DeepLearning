{
 "cells": [
  {
   "cell_type": "markdown",
   "id": "9ff06a2e-5ace-4330-8185-f7b1ada48506",
   "metadata": {},
   "source": [
    "# Car Price Prediction"
   ]
  },
  {
   "cell_type": "code",
   "execution_count": 2,
   "id": "2b875946-18a8-407f-a28f-b425baa9e5d2",
   "metadata": {},
   "outputs": [],
   "source": [
    "import numpy as np \n",
    "import pandas as pd\n",
    "import matplotlib.pyplot as plt \n",
    "import seaborn as sns\n",
    "import tensorflow as tf\n",
    "import keras\n",
    "from keras.models import Sequential\n",
    "from keras.layers import Dense\n",
    "from keras import optimizers\n",
    "from sklearn.metrics import mean_squared_error,mean_absolute_error,explained_variance_score\n",
    "from sklearn.metrics import r2_score\n",
    "import tensorflow as tf \n",
    "from tensorflow import keras\n",
    "from tensorflow.keras import layers\n",
    "from tensorflow.keras.models import Sequential\n",
    "from tensorflow.keras.layers import Dense, Dropout,Flatten\n",
    "from tensorflow.keras.optimizers import Adam\n",
    "from tensorflow.keras.losses import SparseCategoricalCrossentropy, BinaryCrossentropy\n",
    "from tensorflow.keras.callbacks import TensorBoard,EarlyStopping\n",
    "sns.set_style('whitegrid')\n",
    "import os\n",
    "%matplotlib inline \n",
    "\n",
    "from sklearn.model_selection import train_test_split\n",
    "from sklearn.preprocessing import StandardScaler\n",
    "\n",
    "\n",
    "for dirname, _, filenames in os.walk('/kaggle/input'):\n",
    "    for filename in filenames:\n",
    "        print(os.path.join(dirname, filename))"
   ]
  },
  {
   "cell_type": "code",
   "execution_count": 3,
   "id": "75dc91d1-0e56-4a0c-84db-921c64f65944",
   "metadata": {},
   "outputs": [],
   "source": [
    "data = pd.read_csv('bmw_pricing_challenge.csv')"
   ]
  },
  {
   "cell_type": "code",
   "execution_count": 4,
   "id": "43a45c09-5c18-4756-9510-306b6bb39dba",
   "metadata": {},
   "outputs": [
    {
     "data": {
      "text/html": [
       "<div>\n",
       "<style scoped>\n",
       "    .dataframe tbody tr th:only-of-type {\n",
       "        vertical-align: middle;\n",
       "    }\n",
       "\n",
       "    .dataframe tbody tr th {\n",
       "        vertical-align: top;\n",
       "    }\n",
       "\n",
       "    .dataframe thead th {\n",
       "        text-align: right;\n",
       "    }\n",
       "</style>\n",
       "<table border=\"1\" class=\"dataframe\">\n",
       "  <thead>\n",
       "    <tr style=\"text-align: right;\">\n",
       "      <th></th>\n",
       "      <th>maker_key</th>\n",
       "      <th>model_key</th>\n",
       "      <th>mileage</th>\n",
       "      <th>engine_power</th>\n",
       "      <th>registration_date</th>\n",
       "      <th>fuel</th>\n",
       "      <th>paint_color</th>\n",
       "      <th>car_type</th>\n",
       "      <th>feature_1</th>\n",
       "      <th>feature_2</th>\n",
       "      <th>feature_3</th>\n",
       "      <th>feature_4</th>\n",
       "      <th>feature_5</th>\n",
       "      <th>feature_6</th>\n",
       "      <th>feature_7</th>\n",
       "      <th>feature_8</th>\n",
       "      <th>price</th>\n",
       "      <th>sold_at</th>\n",
       "    </tr>\n",
       "  </thead>\n",
       "  <tbody>\n",
       "    <tr>\n",
       "      <th>0</th>\n",
       "      <td>BMW</td>\n",
       "      <td>118</td>\n",
       "      <td>140411</td>\n",
       "      <td>100</td>\n",
       "      <td>2012-02-01</td>\n",
       "      <td>diesel</td>\n",
       "      <td>black</td>\n",
       "      <td>convertible</td>\n",
       "      <td>True</td>\n",
       "      <td>True</td>\n",
       "      <td>False</td>\n",
       "      <td>False</td>\n",
       "      <td>True</td>\n",
       "      <td>True</td>\n",
       "      <td>True</td>\n",
       "      <td>False</td>\n",
       "      <td>11300</td>\n",
       "      <td>2018-01-01</td>\n",
       "    </tr>\n",
       "    <tr>\n",
       "      <th>1</th>\n",
       "      <td>BMW</td>\n",
       "      <td>M4</td>\n",
       "      <td>13929</td>\n",
       "      <td>317</td>\n",
       "      <td>2016-04-01</td>\n",
       "      <td>petrol</td>\n",
       "      <td>grey</td>\n",
       "      <td>convertible</td>\n",
       "      <td>True</td>\n",
       "      <td>True</td>\n",
       "      <td>False</td>\n",
       "      <td>False</td>\n",
       "      <td>False</td>\n",
       "      <td>True</td>\n",
       "      <td>True</td>\n",
       "      <td>True</td>\n",
       "      <td>69700</td>\n",
       "      <td>2018-02-01</td>\n",
       "    </tr>\n",
       "    <tr>\n",
       "      <th>2</th>\n",
       "      <td>BMW</td>\n",
       "      <td>320</td>\n",
       "      <td>183297</td>\n",
       "      <td>120</td>\n",
       "      <td>2012-04-01</td>\n",
       "      <td>diesel</td>\n",
       "      <td>white</td>\n",
       "      <td>convertible</td>\n",
       "      <td>False</td>\n",
       "      <td>False</td>\n",
       "      <td>False</td>\n",
       "      <td>False</td>\n",
       "      <td>True</td>\n",
       "      <td>False</td>\n",
       "      <td>True</td>\n",
       "      <td>False</td>\n",
       "      <td>10200</td>\n",
       "      <td>2018-02-01</td>\n",
       "    </tr>\n",
       "    <tr>\n",
       "      <th>3</th>\n",
       "      <td>BMW</td>\n",
       "      <td>420</td>\n",
       "      <td>128035</td>\n",
       "      <td>135</td>\n",
       "      <td>2014-07-01</td>\n",
       "      <td>diesel</td>\n",
       "      <td>red</td>\n",
       "      <td>convertible</td>\n",
       "      <td>True</td>\n",
       "      <td>True</td>\n",
       "      <td>False</td>\n",
       "      <td>False</td>\n",
       "      <td>True</td>\n",
       "      <td>True</td>\n",
       "      <td>True</td>\n",
       "      <td>True</td>\n",
       "      <td>25100</td>\n",
       "      <td>2018-02-01</td>\n",
       "    </tr>\n",
       "    <tr>\n",
       "      <th>4</th>\n",
       "      <td>BMW</td>\n",
       "      <td>425</td>\n",
       "      <td>97097</td>\n",
       "      <td>160</td>\n",
       "      <td>2014-12-01</td>\n",
       "      <td>diesel</td>\n",
       "      <td>silver</td>\n",
       "      <td>convertible</td>\n",
       "      <td>True</td>\n",
       "      <td>True</td>\n",
       "      <td>False</td>\n",
       "      <td>False</td>\n",
       "      <td>False</td>\n",
       "      <td>True</td>\n",
       "      <td>True</td>\n",
       "      <td>True</td>\n",
       "      <td>33400</td>\n",
       "      <td>2018-04-01</td>\n",
       "    </tr>\n",
       "    <tr>\n",
       "      <th>5</th>\n",
       "      <td>BMW</td>\n",
       "      <td>335</td>\n",
       "      <td>152352</td>\n",
       "      <td>225</td>\n",
       "      <td>2011-05-01</td>\n",
       "      <td>petrol</td>\n",
       "      <td>black</td>\n",
       "      <td>convertible</td>\n",
       "      <td>True</td>\n",
       "      <td>True</td>\n",
       "      <td>False</td>\n",
       "      <td>False</td>\n",
       "      <td>True</td>\n",
       "      <td>True</td>\n",
       "      <td>True</td>\n",
       "      <td>True</td>\n",
       "      <td>17100</td>\n",
       "      <td>2018-02-01</td>\n",
       "    </tr>\n",
       "    <tr>\n",
       "      <th>6</th>\n",
       "      <td>BMW</td>\n",
       "      <td>325</td>\n",
       "      <td>205219</td>\n",
       "      <td>145</td>\n",
       "      <td>2009-05-01</td>\n",
       "      <td>diesel</td>\n",
       "      <td>grey</td>\n",
       "      <td>convertible</td>\n",
       "      <td>True</td>\n",
       "      <td>True</td>\n",
       "      <td>False</td>\n",
       "      <td>False</td>\n",
       "      <td>True</td>\n",
       "      <td>True</td>\n",
       "      <td>True</td>\n",
       "      <td>True</td>\n",
       "      <td>12400</td>\n",
       "      <td>2018-02-01</td>\n",
       "    </tr>\n",
       "    <tr>\n",
       "      <th>7</th>\n",
       "      <td>BMW</td>\n",
       "      <td>118</td>\n",
       "      <td>115560</td>\n",
       "      <td>105</td>\n",
       "      <td>2009-08-01</td>\n",
       "      <td>petrol</td>\n",
       "      <td>white</td>\n",
       "      <td>convertible</td>\n",
       "      <td>True</td>\n",
       "      <td>True</td>\n",
       "      <td>False</td>\n",
       "      <td>False</td>\n",
       "      <td>False</td>\n",
       "      <td>True</td>\n",
       "      <td>True</td>\n",
       "      <td>False</td>\n",
       "      <td>6100</td>\n",
       "      <td>2018-02-01</td>\n",
       "    </tr>\n",
       "    <tr>\n",
       "      <th>8</th>\n",
       "      <td>BMW</td>\n",
       "      <td>Z4</td>\n",
       "      <td>123886</td>\n",
       "      <td>125</td>\n",
       "      <td>2004-07-01</td>\n",
       "      <td>petrol</td>\n",
       "      <td>black</td>\n",
       "      <td>convertible</td>\n",
       "      <td>True</td>\n",
       "      <td>False</td>\n",
       "      <td>False</td>\n",
       "      <td>False</td>\n",
       "      <td>False</td>\n",
       "      <td>True</td>\n",
       "      <td>True</td>\n",
       "      <td>False</td>\n",
       "      <td>6200</td>\n",
       "      <td>2018-03-01</td>\n",
       "    </tr>\n",
       "    <tr>\n",
       "      <th>9</th>\n",
       "      <td>BMW</td>\n",
       "      <td>320</td>\n",
       "      <td>139541</td>\n",
       "      <td>135</td>\n",
       "      <td>2013-06-01</td>\n",
       "      <td>diesel</td>\n",
       "      <td>white</td>\n",
       "      <td>convertible</td>\n",
       "      <td>False</td>\n",
       "      <td>False</td>\n",
       "      <td>False</td>\n",
       "      <td>False</td>\n",
       "      <td>True</td>\n",
       "      <td>False</td>\n",
       "      <td>True</td>\n",
       "      <td>False</td>\n",
       "      <td>17300</td>\n",
       "      <td>2018-03-01</td>\n",
       "    </tr>\n",
       "  </tbody>\n",
       "</table>\n",
       "</div>"
      ],
      "text/plain": [
       "  maker_key model_key  mileage  engine_power registration_date    fuel  \\\n",
       "0       BMW       118   140411           100        2012-02-01  diesel   \n",
       "1       BMW        M4    13929           317        2016-04-01  petrol   \n",
       "2       BMW       320   183297           120        2012-04-01  diesel   \n",
       "3       BMW       420   128035           135        2014-07-01  diesel   \n",
       "4       BMW       425    97097           160        2014-12-01  diesel   \n",
       "5       BMW       335   152352           225        2011-05-01  petrol   \n",
       "6       BMW       325   205219           145        2009-05-01  diesel   \n",
       "7       BMW       118   115560           105        2009-08-01  petrol   \n",
       "8       BMW        Z4   123886           125        2004-07-01  petrol   \n",
       "9       BMW       320   139541           135        2013-06-01  diesel   \n",
       "\n",
       "  paint_color     car_type  feature_1  feature_2  feature_3  feature_4  \\\n",
       "0       black  convertible       True       True      False      False   \n",
       "1        grey  convertible       True       True      False      False   \n",
       "2       white  convertible      False      False      False      False   \n",
       "3         red  convertible       True       True      False      False   \n",
       "4      silver  convertible       True       True      False      False   \n",
       "5       black  convertible       True       True      False      False   \n",
       "6        grey  convertible       True       True      False      False   \n",
       "7       white  convertible       True       True      False      False   \n",
       "8       black  convertible       True      False      False      False   \n",
       "9       white  convertible      False      False      False      False   \n",
       "\n",
       "   feature_5  feature_6  feature_7  feature_8  price     sold_at  \n",
       "0       True       True       True      False  11300  2018-01-01  \n",
       "1      False       True       True       True  69700  2018-02-01  \n",
       "2       True      False       True      False  10200  2018-02-01  \n",
       "3       True       True       True       True  25100  2018-02-01  \n",
       "4      False       True       True       True  33400  2018-04-01  \n",
       "5       True       True       True       True  17100  2018-02-01  \n",
       "6       True       True       True       True  12400  2018-02-01  \n",
       "7      False       True       True      False   6100  2018-02-01  \n",
       "8      False       True       True      False   6200  2018-03-01  \n",
       "9       True      False       True      False  17300  2018-03-01  "
      ]
     },
     "execution_count": 4,
     "metadata": {},
     "output_type": "execute_result"
    }
   ],
   "source": [
    "data.head(10)"
   ]
  },
  {
   "cell_type": "code",
   "execution_count": 4,
   "id": "9a28263e-05fa-4b05-913a-164cab187bf9",
   "metadata": {},
   "outputs": [
    {
     "data": {
      "text/plain": [
       "(4843, 18)"
      ]
     },
     "execution_count": 4,
     "metadata": {},
     "output_type": "execute_result"
    }
   ],
   "source": [
    "data.shape"
   ]
  },
  {
   "cell_type": "code",
   "execution_count": 5,
   "id": "3fc27bb6-f235-4ed5-a24d-e2a8c7718794",
   "metadata": {},
   "outputs": [
    {
     "data": {
      "text/plain": [
       "maker_key            0\n",
       "model_key            0\n",
       "mileage              0\n",
       "engine_power         0\n",
       "registration_date    0\n",
       "fuel                 0\n",
       "paint_color          0\n",
       "car_type             0\n",
       "feature_1            0\n",
       "feature_2            0\n",
       "feature_3            0\n",
       "feature_4            0\n",
       "feature_5            0\n",
       "feature_6            0\n",
       "feature_7            0\n",
       "feature_8            0\n",
       "price                0\n",
       "sold_at              0\n",
       "dtype: int64"
      ]
     },
     "execution_count": 5,
     "metadata": {},
     "output_type": "execute_result"
    }
   ],
   "source": [
    "data.isnull().sum()"
   ]
  },
  {
   "cell_type": "code",
   "execution_count": 6,
   "id": "d111eb79-225a-4437-ae44-67542d1cf7b1",
   "metadata": {},
   "outputs": [
    {
     "data": {
      "text/html": [
       "<div>\n",
       "<style scoped>\n",
       "    .dataframe tbody tr th:only-of-type {\n",
       "        vertical-align: middle;\n",
       "    }\n",
       "\n",
       "    .dataframe tbody tr th {\n",
       "        vertical-align: top;\n",
       "    }\n",
       "\n",
       "    .dataframe thead th {\n",
       "        text-align: right;\n",
       "    }\n",
       "</style>\n",
       "<table border=\"1\" class=\"dataframe\">\n",
       "  <thead>\n",
       "    <tr style=\"text-align: right;\">\n",
       "      <th></th>\n",
       "      <th>count</th>\n",
       "      <th>mean</th>\n",
       "      <th>std</th>\n",
       "      <th>min</th>\n",
       "      <th>25%</th>\n",
       "      <th>50%</th>\n",
       "      <th>75%</th>\n",
       "      <th>max</th>\n",
       "    </tr>\n",
       "  </thead>\n",
       "  <tbody>\n",
       "    <tr>\n",
       "      <th>mileage</th>\n",
       "      <td>4843.0</td>\n",
       "      <td>140962.799504</td>\n",
       "      <td>60196.740703</td>\n",
       "      <td>-64.0</td>\n",
       "      <td>102913.5</td>\n",
       "      <td>141080.0</td>\n",
       "      <td>175195.5</td>\n",
       "      <td>1000376.0</td>\n",
       "    </tr>\n",
       "    <tr>\n",
       "      <th>engine_power</th>\n",
       "      <td>4843.0</td>\n",
       "      <td>128.988230</td>\n",
       "      <td>38.993360</td>\n",
       "      <td>0.0</td>\n",
       "      <td>100.0</td>\n",
       "      <td>120.0</td>\n",
       "      <td>135.0</td>\n",
       "      <td>423.0</td>\n",
       "    </tr>\n",
       "    <tr>\n",
       "      <th>price</th>\n",
       "      <td>4843.0</td>\n",
       "      <td>15828.081767</td>\n",
       "      <td>9220.285684</td>\n",
       "      <td>100.0</td>\n",
       "      <td>10800.0</td>\n",
       "      <td>14200.0</td>\n",
       "      <td>18600.0</td>\n",
       "      <td>178500.0</td>\n",
       "    </tr>\n",
       "  </tbody>\n",
       "</table>\n",
       "</div>"
      ],
      "text/plain": [
       "               count           mean           std    min       25%       50%  \\\n",
       "mileage       4843.0  140962.799504  60196.740703  -64.0  102913.5  141080.0   \n",
       "engine_power  4843.0     128.988230     38.993360    0.0     100.0     120.0   \n",
       "price         4843.0   15828.081767   9220.285684  100.0   10800.0   14200.0   \n",
       "\n",
       "                   75%        max  \n",
       "mileage       175195.5  1000376.0  \n",
       "engine_power     135.0      423.0  \n",
       "price          18600.0   178500.0  "
      ]
     },
     "execution_count": 6,
     "metadata": {},
     "output_type": "execute_result"
    }
   ],
   "source": [
    "data.describe().T"
   ]
  },
  {
   "cell_type": "code",
   "execution_count": 7,
   "id": "06ee7a67-ffc2-4a4a-b1cf-29cedcfa93ea",
   "metadata": {},
   "outputs": [
    {
     "data": {
      "text/plain": [
       "maker_key            object\n",
       "model_key            object\n",
       "mileage               int64\n",
       "engine_power          int64\n",
       "registration_date    object\n",
       "fuel                 object\n",
       "paint_color          object\n",
       "car_type             object\n",
       "feature_1              bool\n",
       "feature_2              bool\n",
       "feature_3              bool\n",
       "feature_4              bool\n",
       "feature_5              bool\n",
       "feature_6              bool\n",
       "feature_7              bool\n",
       "feature_8              bool\n",
       "price                 int64\n",
       "sold_at              object\n",
       "dtype: object"
      ]
     },
     "execution_count": 7,
     "metadata": {},
     "output_type": "execute_result"
    }
   ],
   "source": [
    "data.dtypes"
   ]
  },
  {
   "cell_type": "code",
   "execution_count": 8,
   "id": "4c2842fa-3f09-4e33-9ce7-113266d2d42b",
   "metadata": {},
   "outputs": [],
   "source": [
    "data['registration_date']=pd.to_datetime(data['registration_date'])\n",
    "data['sold_at']=pd.to_datetime(data['sold_at'])"
   ]
  },
  {
   "cell_type": "code",
   "execution_count": 9,
   "id": "97d7d933-8b35-48c8-b3df-97ba21537f97",
   "metadata": {},
   "outputs": [
    {
     "data": {
      "text/html": [
       "<div>\n",
       "<style scoped>\n",
       "    .dataframe tbody tr th:only-of-type {\n",
       "        vertical-align: middle;\n",
       "    }\n",
       "\n",
       "    .dataframe tbody tr th {\n",
       "        vertical-align: top;\n",
       "    }\n",
       "\n",
       "    .dataframe thead th {\n",
       "        text-align: right;\n",
       "    }\n",
       "</style>\n",
       "<table border=\"1\" class=\"dataframe\">\n",
       "  <thead>\n",
       "    <tr style=\"text-align: right;\">\n",
       "      <th></th>\n",
       "      <th>maker_key</th>\n",
       "      <th>model_key</th>\n",
       "      <th>mileage</th>\n",
       "      <th>engine_power</th>\n",
       "      <th>registration_date</th>\n",
       "      <th>fuel</th>\n",
       "      <th>paint_color</th>\n",
       "      <th>car_type</th>\n",
       "      <th>feature_1</th>\n",
       "      <th>feature_2</th>\n",
       "      <th>feature_3</th>\n",
       "      <th>feature_4</th>\n",
       "      <th>feature_5</th>\n",
       "      <th>feature_6</th>\n",
       "      <th>feature_7</th>\n",
       "      <th>feature_8</th>\n",
       "      <th>price</th>\n",
       "      <th>sold_at</th>\n",
       "    </tr>\n",
       "  </thead>\n",
       "  <tbody>\n",
       "    <tr>\n",
       "      <th>2938</th>\n",
       "      <td>BMW</td>\n",
       "      <td>640 Gran Coupé</td>\n",
       "      <td>-64</td>\n",
       "      <td>230</td>\n",
       "      <td>2017-03-01</td>\n",
       "      <td>diesel</td>\n",
       "      <td>black</td>\n",
       "      <td>sedan</td>\n",
       "      <td>True</td>\n",
       "      <td>True</td>\n",
       "      <td>False</td>\n",
       "      <td>True</td>\n",
       "      <td>False</td>\n",
       "      <td>False</td>\n",
       "      <td>True</td>\n",
       "      <td>True</td>\n",
       "      <td>75000</td>\n",
       "      <td>2018-04-01</td>\n",
       "    </tr>\n",
       "  </tbody>\n",
       "</table>\n",
       "</div>"
      ],
      "text/plain": [
       "     maker_key       model_key  mileage  engine_power registration_date  \\\n",
       "2938       BMW  640 Gran Coupé      -64           230        2017-03-01   \n",
       "\n",
       "        fuel paint_color car_type  feature_1  feature_2  feature_3  feature_4  \\\n",
       "2938  diesel       black    sedan       True       True      False       True   \n",
       "\n",
       "      feature_5  feature_6  feature_7  feature_8  price    sold_at  \n",
       "2938      False      False       True       True  75000 2018-04-01  "
      ]
     },
     "execution_count": 9,
     "metadata": {},
     "output_type": "execute_result"
    }
   ],
   "source": [
    "data[data['mileage']<0]"
   ]
  },
  {
   "cell_type": "code",
   "execution_count": 10,
   "id": "1939bc6f-02ab-433e-bded-4449faad5d08",
   "metadata": {},
   "outputs": [],
   "source": [
    "data.at[2938, 'mileage'] = 64"
   ]
  },
  {
   "cell_type": "code",
   "execution_count": 11,
   "id": "f598e582-0b69-41aa-8867-22fee34349c5",
   "metadata": {},
   "outputs": [
    {
     "data": {
      "text/html": [
       "<div>\n",
       "<style scoped>\n",
       "    .dataframe tbody tr th:only-of-type {\n",
       "        vertical-align: middle;\n",
       "    }\n",
       "\n",
       "    .dataframe tbody tr th {\n",
       "        vertical-align: top;\n",
       "    }\n",
       "\n",
       "    .dataframe thead th {\n",
       "        text-align: right;\n",
       "    }\n",
       "</style>\n",
       "<table border=\"1\" class=\"dataframe\">\n",
       "  <thead>\n",
       "    <tr style=\"text-align: right;\">\n",
       "      <th></th>\n",
       "      <th>maker_key</th>\n",
       "      <th>model_key</th>\n",
       "      <th>mileage</th>\n",
       "      <th>engine_power</th>\n",
       "      <th>registration_date</th>\n",
       "      <th>fuel</th>\n",
       "      <th>paint_color</th>\n",
       "      <th>car_type</th>\n",
       "      <th>feature_1</th>\n",
       "      <th>feature_2</th>\n",
       "      <th>feature_3</th>\n",
       "      <th>feature_4</th>\n",
       "      <th>feature_5</th>\n",
       "      <th>feature_6</th>\n",
       "      <th>feature_7</th>\n",
       "      <th>feature_8</th>\n",
       "      <th>price</th>\n",
       "      <th>sold_at</th>\n",
       "    </tr>\n",
       "  </thead>\n",
       "  <tbody>\n",
       "    <tr>\n",
       "      <th>2938</th>\n",
       "      <td>BMW</td>\n",
       "      <td>640 Gran Coupé</td>\n",
       "      <td>64</td>\n",
       "      <td>230</td>\n",
       "      <td>2017-03-01</td>\n",
       "      <td>diesel</td>\n",
       "      <td>black</td>\n",
       "      <td>sedan</td>\n",
       "      <td>True</td>\n",
       "      <td>True</td>\n",
       "      <td>False</td>\n",
       "      <td>True</td>\n",
       "      <td>False</td>\n",
       "      <td>False</td>\n",
       "      <td>True</td>\n",
       "      <td>True</td>\n",
       "      <td>75000</td>\n",
       "      <td>2018-04-01</td>\n",
       "    </tr>\n",
       "  </tbody>\n",
       "</table>\n",
       "</div>"
      ],
      "text/plain": [
       "     maker_key       model_key  mileage  engine_power registration_date  \\\n",
       "2938       BMW  640 Gran Coupé       64           230        2017-03-01   \n",
       "\n",
       "        fuel paint_color car_type  feature_1  feature_2  feature_3  feature_4  \\\n",
       "2938  diesel       black    sedan       True       True      False       True   \n",
       "\n",
       "      feature_5  feature_6  feature_7  feature_8  price    sold_at  \n",
       "2938      False      False       True       True  75000 2018-04-01  "
      ]
     },
     "execution_count": 11,
     "metadata": {},
     "output_type": "execute_result"
    }
   ],
   "source": [
    "data[data['mileage']==64]"
   ]
  },
  {
   "cell_type": "code",
   "execution_count": 12,
   "id": "f7f07bee-a8ab-498f-8b93-2fa63980f109",
   "metadata": {},
   "outputs": [
    {
     "data": {
      "image/png": "[encoded data removed]",
      "text/plain": [
       "<Figure size 576x576 with 1 Axes>"
      ]
     },
     "metadata": {
      "needs_background": "light"
     },
     "output_type": "display_data"
    }
   ],
   "source": [
    "plt.figure(figsize=(8,8))\n",
    "base_color=sns.color_palette()[8]\n",
    "sns.countplot(data=data, x='fuel',color=base_color)\n",
    "plt.title('Type of Fuel',fontsize=30)\n",
    "plt.ylabel('Count',fontsize=30)\n",
    "\n",
    "locs, labels = plt.xticks()\n"
   ]
  },
  {
   "cell_type": "code",
   "execution_count": 13,
   "id": "d65472d6-945e-4e48-8761-d64d1bbae2d7",
   "metadata": {},
   "outputs": [
    {
     "data": {
      "text/plain": [
       "(array([0, 1, 2, 3]),\n",
       " [Text(0, 0, 'diesel'),\n",
       "  Text(1, 0, 'petrol'),\n",
       "  Text(2, 0, 'hybrid_petrol'),\n",
       "  Text(3, 0, 'electro')])"
      ]
     },
     "execution_count": 13,
     "metadata": {},
     "output_type": "execute_result"
    },
    {
     "data": {
      "image/png": "[encoded data removed]",
      "text/plain": [
       "<Figure size 720x720 with 1 Axes>"
      ]
     },
     "metadata": {
      "needs_background": "light"
     },
     "output_type": "display_data"
    }
   ],
   "source": [
    "plt.figure(figsize=(10,10))\n",
    "sns.boxplot(data=data,x='fuel',y='price',color=base_color,order=data.fuel.value_counts().index);\n",
    "plt.title('Fuel',fontsize=30)\n",
    "plt.ylabel('Price',fontsize=30)\n",
    "plt.xticks(fontsize=20,rotation=90)"
   ]
  },
  {
   "cell_type": "code",
   "execution_count": 14,
   "id": "6c87bb57-1d29-4bbb-ac6f-e2d783518fe1",
   "metadata": {},
   "outputs": [
    {
     "data": {
      "image/png": "[encoded data removed]",
      "text/plain": [
       "<Figure size 576x576 with 1 Axes>"
      ]
     },
     "metadata": {
      "needs_background": "light"
     },
     "output_type": "display_data"
    }
   ],
   "source": [
    "plt.figure(figsize=(8,8))\n",
    "base_color=sns.color_palette()[8]\n",
    "sns.countplot(data=data, x='paint_color',color=base_color,order=data.paint_color.value_counts().index)\n",
    "plt.title('Paint Color',fontsize=30)\n",
    "plt.ylabel('Count',fontsize=30)\n",
    "plt.xticks(rotation=90,fontsize=20)\n",
    "\n",
    "locs, labels = plt.xticks()"
   ]
  },
  {
   "cell_type": "code",
   "execution_count": 15,
   "id": "f6baeb60-6770-492e-84f0-847e0a16bb2e",
   "metadata": {},
   "outputs": [
    {
     "data": {
      "image/png": "[encoded data removed]",
      "text/plain": [
       "<Figure size 720x720 with 1 Axes>"
      ]
     },
     "metadata": {
      "needs_background": "light"
     },
     "output_type": "display_data"
    }
   ],
   "source": [
    "#Let see how the color is related to price in the resale market . THe data is has more points for black , grey and blue\n",
    "\n",
    "plt.figure(figsize=(10,10));\n",
    "sns.violinplot(data=data,x='paint_color',y='price',inner='quartile',color=base_color);\n",
    "plt.ylabel('Price',fontsize=30);\n",
    "#plt.xlabel('Paint Color',fontsize=30);\n",
    "plt.title(\"Paint Color\",fontsize=30);\n",
    "plt.xticks(rotation=90,fontsize=20);"
   ]
  },
  {
   "cell_type": "code",
   "execution_count": 16,
   "id": "b8ef33ce-86a5-4357-86dd-435f37380425",
   "metadata": {},
   "outputs": [
    {
     "data": {
      "image/png": "[encoded data removed]",
      "text/plain": [
       "<Figure size 576x576 with 1 Axes>"
      ]
     },
     "metadata": {
      "needs_background": "light"
     },
     "output_type": "display_data"
    }
   ],
   "source": [
    "plt.figure(figsize=(8,8))\n",
    "base_color=sns.color_palette()[8]\n",
    "sns.countplot(data=data, x='car_type',color=base_color,order=data.car_type.value_counts().index)\n",
    "plt.title('Car Type',fontsize=30)\n",
    "plt.ylabel('Count',fontsize=30)\n",
    "plt.xticks(rotation=90,fontsize=20)\n",
    "\n",
    "locs, labels = plt.xticks()"
   ]
  },
  {
   "cell_type": "code",
   "execution_count": 17,
   "id": "92975f67-f415-452f-8341-c9ac692d7270",
   "metadata": {},
   "outputs": [
    {
     "data": {
      "text/plain": [
       "(array([0, 1, 2, 3, 4, 5, 6, 7]),\n",
       " [Text(0, 0, 'estate'),\n",
       "  Text(1, 0, 'sedan'),\n",
       "  Text(2, 0, 'suv'),\n",
       "  Text(3, 0, 'hatchback'),\n",
       "  Text(4, 0, 'subcompact'),\n",
       "  Text(5, 0, 'coupe'),\n",
       "  Text(6, 0, 'convertible'),\n",
       "  Text(7, 0, 'van')])"
      ]
     },
     "execution_count": 17,
     "metadata": {},
     "output_type": "execute_result"
    },
    {
     "data": {
      "image/png": "[encoded data removed]",
      "text/plain": [
       "<Figure size 720x720 with 1 Axes>"
      ]
     },
     "metadata": {
      "needs_background": "light"
     },
     "output_type": "display_data"
    }
   ],
   "source": [
    "plt.figure(figsize=(10,10))\n",
    "sns.boxplot(data=data,x='car_type',y='price',color=base_color,order=data.car_type.value_counts().index);\n",
    "plt.title('Car Type',fontsize=30)\n",
    "plt.ylabel('Price',fontsize=30)\n",
    "plt.xticks(fontsize=20,rotation=90)"
   ]
  },
  {
   "cell_type": "code",
   "execution_count": 18,
   "id": "6a78817e-22ee-47e3-a915-85651d2bc3d1",
   "metadata": {},
   "outputs": [
    {
     "data": {
      "image/png": "[encoded data removed]",
      "text/plain": [
       "<Figure size 720x720 with 1 Axes>"
      ]
     },
     "metadata": {
      "needs_background": "light"
     },
     "output_type": "display_data"
    }
   ],
   "source": [
    "plt.figure(figsize=(10,10))\n",
    "sns.scatterplot(data=data,x='car_type',y='fuel',alpha=0.2,x_jitter=0.2);"
   ]
  },
  {
   "cell_type": "code",
   "execution_count": 19,
   "id": "5153eda4-8605-44df-9ddf-940de6fd40b9",
   "metadata": {},
   "outputs": [],
   "source": [
    "#Creating a colum called as registration year \n",
    "data['registration_year']=data['registration_date'].dt.year"
   ]
  },
  {
   "cell_type": "code",
   "execution_count": 20,
   "id": "1128e03b-9b93-4e4b-aad4-7640871cc1ca",
   "metadata": {},
   "outputs": [
    {
     "data": {
      "image/png": "[encoded data removed]",
      "text/plain": [
       "<Figure size 720x720 with 1 Axes>"
      ]
     },
     "metadata": {
      "needs_background": "light"
     },
     "output_type": "display_data"
    }
   ],
   "source": [
    "plt.figure(figsize=(10,10));\n",
    "sns.countplot(data=data,x='registration_year',color=base_color);\n",
    "plt.xticks(rotation=90);\n",
    "plt.xlabel('Registration Year',fontsize=20);\n",
    "plt.ylabel('Count',fontsize=20);"
   ]
  },
  {
   "cell_type": "code",
   "execution_count": 21,
   "id": "1741dcdf-8758-46a9-a236-f3b9dedfcdeb",
   "metadata": {},
   "outputs": [
    {
     "data": {
      "image/png": "[encoded data removed]",
      "text/plain": [
       "<Figure size 720x720 with 1 Axes>"
      ]
     },
     "metadata": {
      "needs_background": "light"
     },
     "output_type": "display_data"
    }
   ],
   "source": [
    "plt.figure(figsize=(10,10))\n",
    "sns.scatterplot(data=data.sample(2000),x='registration_year',y='price',hue='car_type');"
   ]
  },
  {
   "cell_type": "code",
   "execution_count": 22,
   "id": "0c2e6938-d319-4a29-b37b-8712e598e4c4",
   "metadata": {},
   "outputs": [
    {
     "data": {
      "text/plain": [
       "maker_key                    object\n",
       "model_key                    object\n",
       "mileage                       int64\n",
       "engine_power                  int64\n",
       "registration_date    datetime64[ns]\n",
       "fuel                         object\n",
       "paint_color                  object\n",
       "car_type                     object\n",
       "feature_1                      bool\n",
       "feature_2                      bool\n",
       "feature_3                      bool\n",
       "feature_4                      bool\n",
       "feature_5                      bool\n",
       "feature_6                      bool\n",
       "feature_7                      bool\n",
       "feature_8                      bool\n",
       "price                         int64\n",
       "sold_at              datetime64[ns]\n",
       "registration_year             int64\n",
       "dtype: object"
      ]
     },
     "execution_count": 22,
     "metadata": {},
     "output_type": "execute_result"
    }
   ],
   "source": [
    "data.dtypes"
   ]
  },
  {
   "cell_type": "code",
   "execution_count": 23,
   "id": "85f2df2d-9b9c-4ce9-a649-65e322351a73",
   "metadata": {},
   "outputs": [
    {
     "data": {
      "image/png": "[encoded data removed]",
      "text/plain": [
       "<Figure size 720x1080 with 1 Axes>"
      ]
     },
     "metadata": {
      "needs_background": "light"
     },
     "output_type": "display_data"
    }
   ],
   "source": [
    "plt.figure(figsize=(10,15));\n",
    "#sns.regplot(x=\"car_type\",y=\"registration_date\",data=data)\n",
    "sns.scatterplot(data=data,x='car_type',y='registration_year',alpha=0.3);\n",
    "plt.xticks(rotation=90,fontsize=20);\n",
    "plt.xlabel('Car Type',fontsize=20);\n",
    "plt.xlabel('Registration Year',fontsize=20);\n",
    "plt.title('Cart_type vs Registration Year',fontsize=20);"
   ]
  },
  {
   "cell_type": "code",
   "execution_count": null,
   "id": "206fcebe-9dd9-4624-8036-a2b1eaeec3f3",
   "metadata": {},
   "outputs": [],
   "source": []
  },
  {
   "cell_type": "code",
   "execution_count": null,
   "id": "ca80360c-e991-4d52-a7da-7f57055e6fe2",
   "metadata": {},
   "outputs": [],
   "source": []
  },
  {
   "cell_type": "code",
   "execution_count": null,
   "id": "3336fe87-f54d-4b92-a298-534cc8ee5f89",
   "metadata": {},
   "outputs": [],
   "source": []
  },
  {
   "cell_type": "markdown",
   "id": "4f7555e3-60ed-4c1a-8eff-b77fe75402c5",
   "metadata": {},
   "source": [
    "# Model 2"
   ]
  },
  {
   "cell_type": "code",
   "execution_count": 28,
   "id": "09a293e2-6af6-4ce4-8d3b-9e39ea6ae9a7",
   "metadata": {},
   "outputs": [],
   "source": [
    " data['vechile_days']=data['sold_at']-data['registration_date']\n",
    "data['year_diff']=data['sold_at'].dt.year-data['registration_year']"
   ]
  },
  {
   "cell_type": "code",
   "execution_count": 29,
   "id": "fc54c378-53aa-4084-9df7-d56c49747135",
   "metadata": {},
   "outputs": [
    {
     "data": {
      "text/html": [
       "<div>\n",
       "<style scoped>\n",
       "    .dataframe tbody tr th:only-of-type {\n",
       "        vertical-align: middle;\n",
       "    }\n",
       "\n",
       "    .dataframe tbody tr th {\n",
       "        vertical-align: top;\n",
       "    }\n",
       "\n",
       "    .dataframe thead th {\n",
       "        text-align: right;\n",
       "    }\n",
       "</style>\n",
       "<table border=\"1\" class=\"dataframe\">\n",
       "  <thead>\n",
       "    <tr style=\"text-align: right;\">\n",
       "      <th></th>\n",
       "      <th>maker_key</th>\n",
       "      <th>model_key</th>\n",
       "      <th>mileage</th>\n",
       "      <th>engine_power</th>\n",
       "      <th>registration_date</th>\n",
       "      <th>fuel</th>\n",
       "      <th>paint_color</th>\n",
       "      <th>car_type</th>\n",
       "      <th>feature_1</th>\n",
       "      <th>feature_2</th>\n",
       "      <th>...</th>\n",
       "      <th>feature_4</th>\n",
       "      <th>feature_5</th>\n",
       "      <th>feature_6</th>\n",
       "      <th>feature_7</th>\n",
       "      <th>feature_8</th>\n",
       "      <th>price</th>\n",
       "      <th>sold_at</th>\n",
       "      <th>registration_year</th>\n",
       "      <th>vechile_days</th>\n",
       "      <th>year_diff</th>\n",
       "    </tr>\n",
       "  </thead>\n",
       "  <tbody>\n",
       "    <tr>\n",
       "      <th>7</th>\n",
       "      <td>BMW</td>\n",
       "      <td>118</td>\n",
       "      <td>115560</td>\n",
       "      <td>105</td>\n",
       "      <td>2009-08-01</td>\n",
       "      <td>petrol</td>\n",
       "      <td>white</td>\n",
       "      <td>convertible</td>\n",
       "      <td>True</td>\n",
       "      <td>True</td>\n",
       "      <td>...</td>\n",
       "      <td>False</td>\n",
       "      <td>False</td>\n",
       "      <td>True</td>\n",
       "      <td>True</td>\n",
       "      <td>False</td>\n",
       "      <td>6100</td>\n",
       "      <td>2018-02-01</td>\n",
       "      <td>2009</td>\n",
       "      <td>3106 days</td>\n",
       "      <td>9</td>\n",
       "    </tr>\n",
       "    <tr>\n",
       "      <th>8</th>\n",
       "      <td>BMW</td>\n",
       "      <td>Z4</td>\n",
       "      <td>123886</td>\n",
       "      <td>125</td>\n",
       "      <td>2004-07-01</td>\n",
       "      <td>petrol</td>\n",
       "      <td>black</td>\n",
       "      <td>convertible</td>\n",
       "      <td>True</td>\n",
       "      <td>False</td>\n",
       "      <td>...</td>\n",
       "      <td>False</td>\n",
       "      <td>False</td>\n",
       "      <td>True</td>\n",
       "      <td>True</td>\n",
       "      <td>False</td>\n",
       "      <td>6200</td>\n",
       "      <td>2018-03-01</td>\n",
       "      <td>2004</td>\n",
       "      <td>4991 days</td>\n",
       "      <td>14</td>\n",
       "    </tr>\n",
       "    <tr>\n",
       "      <th>15</th>\n",
       "      <td>BMW</td>\n",
       "      <td>120</td>\n",
       "      <td>208945</td>\n",
       "      <td>130</td>\n",
       "      <td>2008-04-01</td>\n",
       "      <td>diesel</td>\n",
       "      <td>grey</td>\n",
       "      <td>convertible</td>\n",
       "      <td>True</td>\n",
       "      <td>True</td>\n",
       "      <td>...</td>\n",
       "      <td>False</td>\n",
       "      <td>True</td>\n",
       "      <td>False</td>\n",
       "      <td>True</td>\n",
       "      <td>True</td>\n",
       "      <td>8300</td>\n",
       "      <td>2018-04-01</td>\n",
       "      <td>2008</td>\n",
       "      <td>3652 days</td>\n",
       "      <td>10</td>\n",
       "    </tr>\n",
       "    <tr>\n",
       "      <th>17</th>\n",
       "      <td>BMW</td>\n",
       "      <td>650</td>\n",
       "      <td>24521</td>\n",
       "      <td>270</td>\n",
       "      <td>2008-01-01</td>\n",
       "      <td>petrol</td>\n",
       "      <td>grey</td>\n",
       "      <td>convertible</td>\n",
       "      <td>True</td>\n",
       "      <td>False</td>\n",
       "      <td>...</td>\n",
       "      <td>False</td>\n",
       "      <td>False</td>\n",
       "      <td>False</td>\n",
       "      <td>True</td>\n",
       "      <td>False</td>\n",
       "      <td>9200</td>\n",
       "      <td>2018-09-01</td>\n",
       "      <td>2008</td>\n",
       "      <td>3896 days</td>\n",
       "      <td>10</td>\n",
       "    </tr>\n",
       "    <tr>\n",
       "      <th>19</th>\n",
       "      <td>BMW</td>\n",
       "      <td>Z4</td>\n",
       "      <td>128940</td>\n",
       "      <td>110</td>\n",
       "      <td>2008-03-01</td>\n",
       "      <td>petrol</td>\n",
       "      <td>black</td>\n",
       "      <td>convertible</td>\n",
       "      <td>True</td>\n",
       "      <td>False</td>\n",
       "      <td>...</td>\n",
       "      <td>False</td>\n",
       "      <td>False</td>\n",
       "      <td>False</td>\n",
       "      <td>True</td>\n",
       "      <td>False</td>\n",
       "      <td>7700</td>\n",
       "      <td>2018-05-01</td>\n",
       "      <td>2008</td>\n",
       "      <td>3713 days</td>\n",
       "      <td>10</td>\n",
       "    </tr>\n",
       "    <tr>\n",
       "      <th>...</th>\n",
       "      <td>...</td>\n",
       "      <td>...</td>\n",
       "      <td>...</td>\n",
       "      <td>...</td>\n",
       "      <td>...</td>\n",
       "      <td>...</td>\n",
       "      <td>...</td>\n",
       "      <td>...</td>\n",
       "      <td>...</td>\n",
       "      <td>...</td>\n",
       "      <td>...</td>\n",
       "      <td>...</td>\n",
       "      <td>...</td>\n",
       "      <td>...</td>\n",
       "      <td>...</td>\n",
       "      <td>...</td>\n",
       "      <td>...</td>\n",
       "      <td>...</td>\n",
       "      <td>...</td>\n",
       "      <td>...</td>\n",
       "      <td>...</td>\n",
       "    </tr>\n",
       "    <tr>\n",
       "      <th>4803</th>\n",
       "      <td>BMW</td>\n",
       "      <td>216</td>\n",
       "      <td>31079</td>\n",
       "      <td>85</td>\n",
       "      <td>2015-11-01</td>\n",
       "      <td>diesel</td>\n",
       "      <td>black</td>\n",
       "      <td>van</td>\n",
       "      <td>False</td>\n",
       "      <td>True</td>\n",
       "      <td>...</td>\n",
       "      <td>False</td>\n",
       "      <td>False</td>\n",
       "      <td>False</td>\n",
       "      <td>False</td>\n",
       "      <td>False</td>\n",
       "      <td>4800</td>\n",
       "      <td>2018-03-01</td>\n",
       "      <td>2015</td>\n",
       "      <td>851 days</td>\n",
       "      <td>3</td>\n",
       "    </tr>\n",
       "    <tr>\n",
       "      <th>4806</th>\n",
       "      <td>BMW</td>\n",
       "      <td>218</td>\n",
       "      <td>118323</td>\n",
       "      <td>110</td>\n",
       "      <td>2014-09-01</td>\n",
       "      <td>diesel</td>\n",
       "      <td>white</td>\n",
       "      <td>van</td>\n",
       "      <td>False</td>\n",
       "      <td>False</td>\n",
       "      <td>...</td>\n",
       "      <td>False</td>\n",
       "      <td>False</td>\n",
       "      <td>False</td>\n",
       "      <td>False</td>\n",
       "      <td>False</td>\n",
       "      <td>800</td>\n",
       "      <td>2018-02-01</td>\n",
       "      <td>2014</td>\n",
       "      <td>1249 days</td>\n",
       "      <td>4</td>\n",
       "    </tr>\n",
       "    <tr>\n",
       "      <th>4810</th>\n",
       "      <td>BMW</td>\n",
       "      <td>216 Active Tourer</td>\n",
       "      <td>193657</td>\n",
       "      <td>85</td>\n",
       "      <td>2015-03-01</td>\n",
       "      <td>diesel</td>\n",
       "      <td>silver</td>\n",
       "      <td>van</td>\n",
       "      <td>False</td>\n",
       "      <td>False</td>\n",
       "      <td>...</td>\n",
       "      <td>False</td>\n",
       "      <td>False</td>\n",
       "      <td>False</td>\n",
       "      <td>True</td>\n",
       "      <td>False</td>\n",
       "      <td>8900</td>\n",
       "      <td>2018-09-01</td>\n",
       "      <td>2015</td>\n",
       "      <td>1280 days</td>\n",
       "      <td>3</td>\n",
       "    </tr>\n",
       "    <tr>\n",
       "      <th>4812</th>\n",
       "      <td>BMW</td>\n",
       "      <td>218</td>\n",
       "      <td>120849</td>\n",
       "      <td>110</td>\n",
       "      <td>2015-06-01</td>\n",
       "      <td>diesel</td>\n",
       "      <td>blue</td>\n",
       "      <td>van</td>\n",
       "      <td>False</td>\n",
       "      <td>False</td>\n",
       "      <td>...</td>\n",
       "      <td>False</td>\n",
       "      <td>False</td>\n",
       "      <td>False</td>\n",
       "      <td>False</td>\n",
       "      <td>True</td>\n",
       "      <td>6000</td>\n",
       "      <td>2018-04-01</td>\n",
       "      <td>2015</td>\n",
       "      <td>1035 days</td>\n",
       "      <td>3</td>\n",
       "    </tr>\n",
       "    <tr>\n",
       "      <th>4818</th>\n",
       "      <td>BMW</td>\n",
       "      <td>X3</td>\n",
       "      <td>110039</td>\n",
       "      <td>130</td>\n",
       "      <td>2009-07-01</td>\n",
       "      <td>diesel</td>\n",
       "      <td>black</td>\n",
       "      <td>van</td>\n",
       "      <td>False</td>\n",
       "      <td>False</td>\n",
       "      <td>...</td>\n",
       "      <td>False</td>\n",
       "      <td>False</td>\n",
       "      <td>False</td>\n",
       "      <td>True</td>\n",
       "      <td>False</td>\n",
       "      <td>1300</td>\n",
       "      <td>2018-05-01</td>\n",
       "      <td>2009</td>\n",
       "      <td>3226 days</td>\n",
       "      <td>9</td>\n",
       "    </tr>\n",
       "  </tbody>\n",
       "</table>\n",
       "<p>937 rows × 21 columns</p>\n",
       "</div>"
      ],
      "text/plain": [
       "     maker_key          model_key  mileage  engine_power registration_date  \\\n",
       "7          BMW                118   115560           105        2009-08-01   \n",
       "8          BMW                 Z4   123886           125        2004-07-01   \n",
       "15         BMW                120   208945           130        2008-04-01   \n",
       "17         BMW                650    24521           270        2008-01-01   \n",
       "19         BMW                 Z4   128940           110        2008-03-01   \n",
       "...        ...                ...      ...           ...               ...   \n",
       "4803       BMW                216    31079            85        2015-11-01   \n",
       "4806       BMW                218   118323           110        2014-09-01   \n",
       "4810       BMW  216 Active Tourer   193657            85        2015-03-01   \n",
       "4812       BMW                218   120849           110        2015-06-01   \n",
       "4818       BMW                 X3   110039           130        2009-07-01   \n",
       "\n",
       "        fuel paint_color     car_type  feature_1  feature_2  ...  feature_4  \\\n",
       "7     petrol       white  convertible       True       True  ...      False   \n",
       "8     petrol       black  convertible       True      False  ...      False   \n",
       "15    diesel        grey  convertible       True       True  ...      False   \n",
       "17    petrol        grey  convertible       True      False  ...      False   \n",
       "19    petrol       black  convertible       True      False  ...      False   \n",
       "...      ...         ...          ...        ...        ...  ...        ...   \n",
       "4803  diesel       black          van      False       True  ...      False   \n",
       "4806  diesel       white          van      False      False  ...      False   \n",
       "4810  diesel      silver          van      False      False  ...      False   \n",
       "4812  diesel        blue          van      False      False  ...      False   \n",
       "4818  diesel       black          van      False      False  ...      False   \n",
       "\n",
       "      feature_5  feature_6  feature_7  feature_8  price    sold_at  \\\n",
       "7         False       True       True      False   6100 2018-02-01   \n",
       "8         False       True       True      False   6200 2018-03-01   \n",
       "15         True      False       True       True   8300 2018-04-01   \n",
       "17        False      False       True      False   9200 2018-09-01   \n",
       "19        False      False       True      False   7700 2018-05-01   \n",
       "...         ...        ...        ...        ...    ...        ...   \n",
       "4803      False      False      False      False   4800 2018-03-01   \n",
       "4806      False      False      False      False    800 2018-02-01   \n",
       "4810      False      False       True      False   8900 2018-09-01   \n",
       "4812      False      False      False       True   6000 2018-04-01   \n",
       "4818      False      False       True      False   1300 2018-05-01   \n",
       "\n",
       "     registration_year  vechile_days year_diff  \n",
       "7                 2009     3106 days         9  \n",
       "8                 2004     4991 days        14  \n",
       "15                2008     3652 days        10  \n",
       "17                2008     3896 days        10  \n",
       "19                2008     3713 days        10  \n",
       "...                ...           ...       ...  \n",
       "4803              2015      851 days         3  \n",
       "4806              2014     1249 days         4  \n",
       "4810              2015     1280 days         3  \n",
       "4812              2015     1035 days         3  \n",
       "4818              2009     3226 days         9  \n",
       "\n",
       "[937 rows x 21 columns]"
      ]
     },
     "execution_count": 29,
     "metadata": {},
     "output_type": "execute_result"
    }
   ],
   "source": [
    "data[data[\"price\"]<10000]"
   ]
  },
  {
   "cell_type": "code",
   "execution_count": 30,
   "id": "1eef8de8-d45b-4cb0-b4ce-09ae5a1f3710",
   "metadata": {},
   "outputs": [
    {
     "data": {
      "text/html": [
       "<div>\n",
       "<style scoped>\n",
       "    .dataframe tbody tr th:only-of-type {\n",
       "        vertical-align: middle;\n",
       "    }\n",
       "\n",
       "    .dataframe tbody tr th {\n",
       "        vertical-align: top;\n",
       "    }\n",
       "\n",
       "    .dataframe thead th {\n",
       "        text-align: right;\n",
       "    }\n",
       "</style>\n",
       "<table border=\"1\" class=\"dataframe\">\n",
       "  <thead>\n",
       "    <tr style=\"text-align: right;\">\n",
       "      <th></th>\n",
       "      <th>maker_key</th>\n",
       "      <th>model_key</th>\n",
       "      <th>mileage</th>\n",
       "      <th>engine_power</th>\n",
       "      <th>registration_date</th>\n",
       "      <th>fuel</th>\n",
       "      <th>paint_color</th>\n",
       "      <th>car_type</th>\n",
       "      <th>feature_1</th>\n",
       "      <th>feature_2</th>\n",
       "      <th>...</th>\n",
       "      <th>feature_4</th>\n",
       "      <th>feature_5</th>\n",
       "      <th>feature_6</th>\n",
       "      <th>feature_7</th>\n",
       "      <th>feature_8</th>\n",
       "      <th>price</th>\n",
       "      <th>sold_at</th>\n",
       "      <th>registration_year</th>\n",
       "      <th>vechile_days</th>\n",
       "      <th>year_diff</th>\n",
       "    </tr>\n",
       "  </thead>\n",
       "  <tbody>\n",
       "    <tr>\n",
       "      <th>471</th>\n",
       "      <td>BMW</td>\n",
       "      <td>318</td>\n",
       "      <td>3142</td>\n",
       "      <td>100</td>\n",
       "      <td>2016-09-01</td>\n",
       "      <td>diesel</td>\n",
       "      <td>blue</td>\n",
       "      <td>estate</td>\n",
       "      <td>True</td>\n",
       "      <td>True</td>\n",
       "      <td>...</td>\n",
       "      <td>False</td>\n",
       "      <td>False</td>\n",
       "      <td>False</td>\n",
       "      <td>True</td>\n",
       "      <td>False</td>\n",
       "      <td>21400</td>\n",
       "      <td>2018-02-01</td>\n",
       "      <td>2016</td>\n",
       "      <td>518 days</td>\n",
       "      <td>2</td>\n",
       "    </tr>\n",
       "    <tr>\n",
       "      <th>781</th>\n",
       "      <td>BMW</td>\n",
       "      <td>318</td>\n",
       "      <td>3478</td>\n",
       "      <td>100</td>\n",
       "      <td>2016-09-01</td>\n",
       "      <td>diesel</td>\n",
       "      <td>blue</td>\n",
       "      <td>estate</td>\n",
       "      <td>True</td>\n",
       "      <td>True</td>\n",
       "      <td>...</td>\n",
       "      <td>False</td>\n",
       "      <td>False</td>\n",
       "      <td>False</td>\n",
       "      <td>True</td>\n",
       "      <td>False</td>\n",
       "      <td>21400</td>\n",
       "      <td>2018-03-01</td>\n",
       "      <td>2016</td>\n",
       "      <td>546 days</td>\n",
       "      <td>2</td>\n",
       "    </tr>\n",
       "    <tr>\n",
       "      <th>2409</th>\n",
       "      <td>BMW</td>\n",
       "      <td>420 Gran Coupé</td>\n",
       "      <td>476</td>\n",
       "      <td>120</td>\n",
       "      <td>2014-05-01</td>\n",
       "      <td>diesel</td>\n",
       "      <td>blue</td>\n",
       "      <td>hatchback</td>\n",
       "      <td>True</td>\n",
       "      <td>True</td>\n",
       "      <td>...</td>\n",
       "      <td>False</td>\n",
       "      <td>False</td>\n",
       "      <td>True</td>\n",
       "      <td>True</td>\n",
       "      <td>True</td>\n",
       "      <td>30300</td>\n",
       "      <td>2018-08-01</td>\n",
       "      <td>2014</td>\n",
       "      <td>1553 days</td>\n",
       "      <td>4</td>\n",
       "    </tr>\n",
       "    <tr>\n",
       "      <th>2938</th>\n",
       "      <td>BMW</td>\n",
       "      <td>640 Gran Coupé</td>\n",
       "      <td>64</td>\n",
       "      <td>230</td>\n",
       "      <td>2017-03-01</td>\n",
       "      <td>diesel</td>\n",
       "      <td>black</td>\n",
       "      <td>sedan</td>\n",
       "      <td>True</td>\n",
       "      <td>True</td>\n",
       "      <td>...</td>\n",
       "      <td>True</td>\n",
       "      <td>False</td>\n",
       "      <td>False</td>\n",
       "      <td>True</td>\n",
       "      <td>True</td>\n",
       "      <td>75000</td>\n",
       "      <td>2018-04-01</td>\n",
       "      <td>2017</td>\n",
       "      <td>396 days</td>\n",
       "      <td>1</td>\n",
       "    </tr>\n",
       "    <tr>\n",
       "      <th>3687</th>\n",
       "      <td>BMW</td>\n",
       "      <td>116</td>\n",
       "      <td>2399</td>\n",
       "      <td>85</td>\n",
       "      <td>2016-11-01</td>\n",
       "      <td>diesel</td>\n",
       "      <td>white</td>\n",
       "      <td>subcompact</td>\n",
       "      <td>False</td>\n",
       "      <td>False</td>\n",
       "      <td>...</td>\n",
       "      <td>False</td>\n",
       "      <td>False</td>\n",
       "      <td>False</td>\n",
       "      <td>True</td>\n",
       "      <td>False</td>\n",
       "      <td>17300</td>\n",
       "      <td>2018-03-01</td>\n",
       "      <td>2016</td>\n",
       "      <td>485 days</td>\n",
       "      <td>2</td>\n",
       "    </tr>\n",
       "    <tr>\n",
       "      <th>3935</th>\n",
       "      <td>BMW</td>\n",
       "      <td>X5</td>\n",
       "      <td>706</td>\n",
       "      <td>155</td>\n",
       "      <td>2017-07-01</td>\n",
       "      <td>diesel</td>\n",
       "      <td>black</td>\n",
       "      <td>suv</td>\n",
       "      <td>True</td>\n",
       "      <td>True</td>\n",
       "      <td>...</td>\n",
       "      <td>True</td>\n",
       "      <td>True</td>\n",
       "      <td>True</td>\n",
       "      <td>True</td>\n",
       "      <td>True</td>\n",
       "      <td>41600</td>\n",
       "      <td>2018-02-01</td>\n",
       "      <td>2017</td>\n",
       "      <td>215 days</td>\n",
       "      <td>1</td>\n",
       "    </tr>\n",
       "    <tr>\n",
       "      <th>4146</th>\n",
       "      <td>BMW</td>\n",
       "      <td>X6 M</td>\n",
       "      <td>2970</td>\n",
       "      <td>423</td>\n",
       "      <td>2016-04-01</td>\n",
       "      <td>petrol</td>\n",
       "      <td>red</td>\n",
       "      <td>suv</td>\n",
       "      <td>True</td>\n",
       "      <td>True</td>\n",
       "      <td>...</td>\n",
       "      <td>False</td>\n",
       "      <td>False</td>\n",
       "      <td>False</td>\n",
       "      <td>True</td>\n",
       "      <td>True</td>\n",
       "      <td>82400</td>\n",
       "      <td>2018-04-01</td>\n",
       "      <td>2016</td>\n",
       "      <td>730 days</td>\n",
       "      <td>2</td>\n",
       "    </tr>\n",
       "    <tr>\n",
       "      <th>4372</th>\n",
       "      <td>BMW</td>\n",
       "      <td>X5</td>\n",
       "      <td>612</td>\n",
       "      <td>183</td>\n",
       "      <td>2016-10-01</td>\n",
       "      <td>diesel</td>\n",
       "      <td>black</td>\n",
       "      <td>suv</td>\n",
       "      <td>True</td>\n",
       "      <td>True</td>\n",
       "      <td>...</td>\n",
       "      <td>False</td>\n",
       "      <td>False</td>\n",
       "      <td>False</td>\n",
       "      <td>True</td>\n",
       "      <td>True</td>\n",
       "      <td>49100</td>\n",
       "      <td>2018-06-01</td>\n",
       "      <td>2016</td>\n",
       "      <td>608 days</td>\n",
       "      <td>2</td>\n",
       "    </tr>\n",
       "  </tbody>\n",
       "</table>\n",
       "<p>8 rows × 21 columns</p>\n",
       "</div>"
      ],
      "text/plain": [
       "     maker_key       model_key  mileage  engine_power registration_date  \\\n",
       "471        BMW             318     3142           100        2016-09-01   \n",
       "781        BMW             318     3478           100        2016-09-01   \n",
       "2409       BMW  420 Gran Coupé      476           120        2014-05-01   \n",
       "2938       BMW  640 Gran Coupé       64           230        2017-03-01   \n",
       "3687       BMW             116     2399            85        2016-11-01   \n",
       "3935       BMW              X5      706           155        2017-07-01   \n",
       "4146       BMW            X6 M     2970           423        2016-04-01   \n",
       "4372       BMW              X5      612           183        2016-10-01   \n",
       "\n",
       "        fuel paint_color    car_type  feature_1  feature_2  ...  feature_4  \\\n",
       "471   diesel        blue      estate       True       True  ...      False   \n",
       "781   diesel        blue      estate       True       True  ...      False   \n",
       "2409  diesel        blue   hatchback       True       True  ...      False   \n",
       "2938  diesel       black       sedan       True       True  ...       True   \n",
       "3687  diesel       white  subcompact      False      False  ...      False   \n",
       "3935  diesel       black         suv       True       True  ...       True   \n",
       "4146  petrol         red         suv       True       True  ...      False   \n",
       "4372  diesel       black         suv       True       True  ...      False   \n",
       "\n",
       "      feature_5  feature_6  feature_7  feature_8  price    sold_at  \\\n",
       "471       False      False       True      False  21400 2018-02-01   \n",
       "781       False      False       True      False  21400 2018-03-01   \n",
       "2409      False       True       True       True  30300 2018-08-01   \n",
       "2938      False      False       True       True  75000 2018-04-01   \n",
       "3687      False      False       True      False  17300 2018-03-01   \n",
       "3935       True       True       True       True  41600 2018-02-01   \n",
       "4146      False      False       True       True  82400 2018-04-01   \n",
       "4372      False      False       True       True  49100 2018-06-01   \n",
       "\n",
       "     registration_year  vechile_days year_diff  \n",
       "471               2016      518 days         2  \n",
       "781               2016      546 days         2  \n",
       "2409              2014     1553 days         4  \n",
       "2938              2017      396 days         1  \n",
       "3687              2016      485 days         2  \n",
       "3935              2017      215 days         1  \n",
       "4146              2016      730 days         2  \n",
       "4372              2016      608 days         2  \n",
       "\n",
       "[8 rows x 21 columns]"
      ]
     },
     "execution_count": 30,
     "metadata": {},
     "output_type": "execute_result"
    }
   ],
   "source": [
    "data[data[\"mileage\"]<4000]"
   ]
  },
  {
   "cell_type": "code",
   "execution_count": 31,
   "id": "3969f23f-ce87-4640-8af6-deb509e8af6f",
   "metadata": {},
   "outputs": [],
   "source": [
    "data=data[data.price<100000] \n",
    "data=data[data.mileage<400000] \n",
    "\n",
    "features=data[['mileage','engine_power','paint_color','car_type','feature_1','feature_2','feature_3','feature_4','feature_5','feature_6','feature_7','feature_8','price','vechile_days']]\n",
    "\n",
    "features=pd.get_dummies(features,drop_first=True)\n",
    "\n",
    "\n",
    "features['vechile_days']=features['vechile_days'].values.astype('int')\n",
    "features['feature_1']=features['feature_1'].astype('int')\n",
    "features['feature_2']=features['feature_2'].astype('int')\n",
    "features['feature_3']=features['feature_3'].astype('int')\n",
    "features['feature_4']=features['feature_4'].astype('int')\n",
    "features['feature_5']=features['feature_5'].astype('int')\n",
    "features['feature_6']=features['feature_6'].astype('int')\n",
    "features['feature_7']=features['feature_7'].astype('int')\n",
    "features['feature_8']=features['feature_8'].astype('int')\n",
    "\n",
    "columns_names=features.columns\n",
    "\n",
    "sc = StandardScaler()\n",
    "features = sc.fit_transform(features[columns_names])\n",
    "\n",
    "features_scales=pd.DataFrame(features,columns=columns_names)\n",
    "\n",
    "\n",
    "X=features_scales.drop(['price'],axis=1).values\n",
    "y=features_scales['price'].values.reshape(len(X),1)\n",
    "\n",
    "\n",
    "X_train, X_test, y_train, y_test = train_test_split(X, y, test_size = 0.3, random_state =42)"
   ]
  },
  {
   "cell_type": "code",
   "execution_count": 32,
   "id": "0f259155-4d64-4f79-a440-597b44fa0d2a",
   "metadata": {},
   "outputs": [
    {
     "name": "stdout",
     "output_type": "stream",
     "text": [
      "(4835, 27) (4835, 1)\n"
     ]
    }
   ],
   "source": [
    "print(X.shape,y.shape)"
   ]
  },
  {
   "cell_type": "code",
   "execution_count": 33,
   "id": "c3887a46-75f1-4cbc-b4c4-4c73d41bfd74",
   "metadata": {},
   "outputs": [
    {
     "name": "stderr",
     "output_type": "stream",
     "text": [
      "C:\\Users\\Mustafa\\anaconda3\\lib\\site-packages\\keras\\optimizers\\optimizer_v2\\gradient_descent.py:111: UserWarning: The `lr` argument is deprecated, use `learning_rate` instead.\n",
      "  super().__init__(name, **kwargs)\n"
     ]
    },
    {
     "data": {
      "text/plain": [
       "<keras.callbacks.History at 0x154e4da63a0>"
      ]
     },
     "execution_count": 33,
     "metadata": {},
     "output_type": "execute_result"
    }
   ],
   "source": [
    "model2 = Sequential()\n",
    "\n",
    "model2.add(Dense(units = 12, kernel_initializer = 'he_normal', activation = 'relu', input_dim = X.shape[1]))\n",
    "model2.add(Dense(units = 12, kernel_initializer = 'he_normal', activation = 'relu'))\n",
    "model2.add(Dense(units = 1, kernel_initializer = 'he_normal', activation = 'linear'))\n",
    "\n",
    "sgd = optimizers.SGD(lr=0.001, decay=1e-6, momentum=0.9, nesterov=True)\n",
    "model2.compile(optimizer =sgd, loss = 'mean_squared_error',metrics=['MAE'])\n",
    "\n",
    "model2.fit(X_train, y_train,validation_data=(X_test,y_test) , batch_size = 128, epochs = 350,verbose=0)"
   ]
  },
  {
   "cell_type": "code",
   "execution_count": 34,
   "id": "5a664d35-1b6e-43ee-9cf3-9286064bf9a2",
   "metadata": {},
   "outputs": [
    {
     "name": "stdout",
     "output_type": "stream",
     "text": [
      "Model: \"sequential_1\"\n",
      "_________________________________________________________________\n",
      " Layer (type)                Output Shape              Param #   \n",
      "=================================================================\n",
      " dense_3 (Dense)             (None, 12)                336       \n",
      "                                                                 \n",
      " dense_4 (Dense)             (None, 12)                156       \n",
      "                                                                 \n",
      " dense_5 (Dense)             (None, 1)                 13        \n",
      "                                                                 \n",
      "=================================================================\n",
      "Total params: 505\n",
      "Trainable params: 505\n",
      "Non-trainable params: 0\n",
      "_________________________________________________________________\n"
     ]
    }
   ],
   "source": [
    "model2.summary()"
   ]
  },
  {
   "cell_type": "code",
   "execution_count": 36,
   "id": "5a96c3e1-0f49-462a-bdf8-cb29704446fb",
   "metadata": {},
   "outputs": [
    {
     "name": "stdout",
     "output_type": "stream",
     "text": [
      "46/46 [==============================] - 0s 1ms/step\n",
      "Explained_varianve_score=0.7311237056542488\n",
      "R-squared=0.731122902063088\n"
     ]
    }
   ],
   "source": [
    "predictions=model2.predict(X_test)\n",
    "print('Explained_varianve_score={}'.format( explained_variance_score(y_test,predictions)))\n",
    "print('R-squared={}'.format( r2_score(y_test,predictions)))"
   ]
  },
  {
   "cell_type": "markdown",
   "id": "ccc7a52f-855c-4ae2-9767-021bdbe89b14",
   "metadata": {},
   "source": [
    "## Model 3"
   ]
  },
  {
   "cell_type": "code",
   "execution_count": 37,
   "id": "673de67c-cc2b-4d93-864c-b3b4e0f39a7a",
   "metadata": {},
   "outputs": [
    {
     "data": {
      "text/plain": [
       "27"
      ]
     },
     "execution_count": 37,
     "metadata": {},
     "output_type": "execute_result"
    }
   ],
   "source": [
    "len(X_train[1])"
   ]
  },
  {
   "cell_type": "code",
   "execution_count": 38,
   "id": "6e3d383f-d6c5-4b4d-8d15-4540c9e78461",
   "metadata": {},
   "outputs": [],
   "source": [
    "model3= Sequential()\n",
    "model3.add(tf.keras.layers.Dense(256, activation='relu', input_shape=(len(X_train[1]),)))\n",
    "model3.add(tf.keras.layers.Dense(128, activation='relu'))\n",
    "model3.add(tf.keras.layers.Dense(64, activation='relu'))\n",
    "model3.add(tf.keras.layers.Dense(32, activation='relu'))\n",
    "model3.add(tf.keras.layers.Dense(16, activation='relu'))\n",
    "model3.add(tf.keras.layers.Dense(1, activation='linear'))\n",
    "\n",
    "model3.compile(loss='mse',\n",
    "              optimizer='adam'\n",
    ")"
   ]
  },
  {
   "cell_type": "code",
   "execution_count": 39,
   "id": "341d1865-80c8-4368-b9f2-0e9257aede04",
   "metadata": {},
   "outputs": [
    {
     "name": "stdout",
     "output_type": "stream",
     "text": [
      "Model: \"sequential_2\"\n",
      "_________________________________________________________________\n",
      " Layer (type)                Output Shape              Param #   \n",
      "=================================================================\n",
      " dense_6 (Dense)             (None, 256)               7168      \n",
      "                                                                 \n",
      " dense_7 (Dense)             (None, 128)               32896     \n",
      "                                                                 \n",
      " dense_8 (Dense)             (None, 64)                8256      \n",
      "                                                                 \n",
      " dense_9 (Dense)             (None, 32)                2080      \n",
      "                                                                 \n",
      " dense_10 (Dense)            (None, 16)                528       \n",
      "                                                                 \n",
      " dense_11 (Dense)            (None, 1)                 17        \n",
      "                                                                 \n",
      "=================================================================\n",
      "Total params: 50,945\n",
      "Trainable params: 50,945\n",
      "Non-trainable params: 0\n",
      "_________________________________________________________________\n"
     ]
    }
   ],
   "source": [
    "model3.summary()"
   ]
  },
  {
   "cell_type": "code",
   "execution_count": 40,
   "id": "10404c5f-cbfe-44dc-b87b-33435f914404",
   "metadata": {},
   "outputs": [
    {
     "name": "stdout",
     "output_type": "stream",
     "text": [
      "Epoch 1/50\n",
      " 87/106 [=======================>......] - ETA: 0s - loss: 0.5126WARNING:tensorflow:Early stopping conditioned on metric `val_loss` which is not available. Available metrics are: loss\n",
      "106/106 [==============================] - 1s 2ms/step - loss: 0.4685\n",
      "Epoch 2/50\n",
      "104/106 [============================>.] - ETA: 0s - loss: 0.2600WARNING:tensorflow:Early stopping conditioned on metric `val_loss` which is not available. Available metrics are: loss\n",
      "106/106 [==============================] - 0s 2ms/step - loss: 0.2595\n",
      "Epoch 3/50\n",
      " 89/106 [========================>.....] - ETA: 0s - loss: 0.2366WARNING:tensorflow:Early stopping conditioned on metric `val_loss` which is not available. Available metrics are: loss\n",
      "106/106 [==============================] - 0s 2ms/step - loss: 0.2410\n",
      "Epoch 4/50\n",
      " 83/106 [======================>.......] - ETA: 0s - loss: 0.2209WARNING:tensorflow:Early stopping conditioned on metric `val_loss` which is not available. Available metrics are: loss\n",
      "106/106 [==============================] - 0s 2ms/step - loss: 0.2180\n",
      "Epoch 5/50\n",
      "106/106 [==============================] - ETA: 0s - loss: 0.2007WARNING:tensorflow:Early stopping conditioned on metric `val_loss` which is not available. Available metrics are: loss\n",
      "106/106 [==============================] - 0s 1ms/step - loss: 0.2007\n",
      "Epoch 6/50\n",
      "103/106 [============================>.] - ETA: 0s - loss: 0.1946WARNING:tensorflow:Early stopping conditioned on metric `val_loss` which is not available. Available metrics are: loss\n",
      "106/106 [==============================] - 0s 2ms/step - loss: 0.1943\n",
      "Epoch 7/50\n",
      " 85/106 [=======================>......] - ETA: 0s - loss: 0.1870WARNING:tensorflow:Early stopping conditioned on metric `val_loss` which is not available. Available metrics are: loss\n",
      "106/106 [==============================] - 0s 2ms/step - loss: 0.1888\n",
      "Epoch 8/50\n",
      " 92/106 [=========================>....] - ETA: 0s - loss: 0.1918WARNING:tensorflow:Early stopping conditioned on metric `val_loss` which is not available. Available metrics are: loss\n",
      "106/106 [==============================] - 0s 2ms/step - loss: 0.1897\n",
      "Epoch 9/50\n",
      " 83/106 [======================>.......] - ETA: 0s - loss: 0.1607WARNING:tensorflow:Early stopping conditioned on metric `val_loss` which is not available. Available metrics are: loss\n",
      "106/106 [==============================] - 0s 2ms/step - loss: 0.1647\n",
      "Epoch 10/50\n",
      " 90/106 [========================>.....] - ETA: 0s - loss: 0.1660WARNING:tensorflow:Early stopping conditioned on metric `val_loss` which is not available. Available metrics are: loss\n",
      "106/106 [==============================] - 0s 2ms/step - loss: 0.1615\n",
      "Epoch 11/50\n",
      " 89/106 [========================>.....] - ETA: 0s - loss: 0.1671WARNING:tensorflow:Early stopping conditioned on metric `val_loss` which is not available. Available metrics are: loss\n",
      "106/106 [==============================] - 0s 2ms/step - loss: 0.1659\n",
      "Epoch 12/50\n",
      " 78/106 [=====================>........] - ETA: 0s - loss: 0.1506WARNING:tensorflow:Early stopping conditioned on metric `val_loss` which is not available. Available metrics are: loss\n",
      "106/106 [==============================] - 0s 2ms/step - loss: 0.1501\n",
      "Epoch 13/50\n",
      " 98/106 [==========================>...] - ETA: 0s - loss: 0.1433WARNING:tensorflow:Early stopping conditioned on metric `val_loss` which is not available. Available metrics are: loss\n",
      "106/106 [==============================] - 0s 2ms/step - loss: 0.1424\n",
      "Epoch 14/50\n",
      " 88/106 [=======================>......] - ETA: 0s - loss: 0.1333WARNING:tensorflow:Early stopping conditioned on metric `val_loss` which is not available. Available metrics are: loss\n",
      "106/106 [==============================] - 0s 2ms/step - loss: 0.1335\n",
      "Epoch 15/50\n",
      "100/106 [===========================>..] - ETA: 0s - loss: 0.1244WARNING:tensorflow:Early stopping conditioned on metric `val_loss` which is not available. Available metrics are: loss\n",
      "106/106 [==============================] - 0s 2ms/step - loss: 0.1252\n",
      "Epoch 16/50\n",
      " 89/106 [========================>.....] - ETA: 0s - loss: 0.1150WARNING:tensorflow:Early stopping conditioned on metric `val_loss` which is not available. Available metrics are: loss\n",
      "106/106 [==============================] - 0s 2ms/step - loss: 0.1185\n",
      "Epoch 17/50\n",
      " 92/106 [=========================>....] - ETA: 0s - loss: 0.1200WARNING:tensorflow:Early stopping conditioned on metric `val_loss` which is not available. Available metrics are: loss\n",
      "106/106 [==============================] - 0s 2ms/step - loss: 0.1233\n",
      "Epoch 18/50\n",
      "103/106 [============================>.] - ETA: 0s - loss: 0.1143WARNING:tensorflow:Early stopping conditioned on metric `val_loss` which is not available. Available metrics are: loss\n",
      "106/106 [==============================] - 0s 2ms/step - loss: 0.1138\n",
      "Epoch 19/50\n",
      "106/106 [==============================] - ETA: 0s - loss: 0.1045WARNING:tensorflow:Early stopping conditioned on metric `val_loss` which is not available. Available metrics are: loss\n",
      "106/106 [==============================] - 0s 2ms/step - loss: 0.1045\n",
      "Epoch 20/50\n",
      " 83/106 [======================>.......] - ETA: 0s - loss: 0.0967WARNING:tensorflow:Early stopping conditioned on metric `val_loss` which is not available. Available metrics are: loss\n",
      "106/106 [==============================] - 0s 2ms/step - loss: 0.0991\n",
      "Epoch 21/50\n",
      " 93/106 [=========================>....] - ETA: 0s - loss: 0.0947WARNING:tensorflow:Early stopping conditioned on metric `val_loss` which is not available. Available metrics are: loss\n",
      "106/106 [==============================] - 0s 2ms/step - loss: 0.0969\n",
      "Epoch 22/50\n",
      " 95/106 [=========================>....] - ETA: 0s - loss: 0.0878WARNING:tensorflow:Early stopping conditioned on metric `val_loss` which is not available. Available metrics are: loss\n",
      "106/106 [==============================] - 0s 2ms/step - loss: 0.0888\n",
      "Epoch 23/50\n",
      " 87/106 [=======================>......] - ETA: 0s - loss: 0.0854WARNING:tensorflow:Early stopping conditioned on metric `val_loss` which is not available. Available metrics are: loss\n",
      "106/106 [==============================] - 0s 2ms/step - loss: 0.0852\n",
      "Epoch 24/50\n",
      " 79/106 [=====================>........] - ETA: 0s - loss: 0.0795WARNING:tensorflow:Early stopping conditioned on metric `val_loss` which is not available. Available metrics are: loss\n",
      "106/106 [==============================] - 0s 2ms/step - loss: 0.0814\n",
      "Epoch 25/50\n",
      " 97/106 [==========================>...] - ETA: 0s - loss: 0.0747WARNING:tensorflow:Early stopping conditioned on metric `val_loss` which is not available. Available metrics are: loss\n",
      "106/106 [==============================] - 0s 2ms/step - loss: 0.0763\n",
      "Epoch 26/50\n",
      " 97/106 [==========================>...] - ETA: 0s - loss: 0.0724WARNING:tensorflow:Early stopping conditioned on metric `val_loss` which is not available. Available metrics are: loss\n",
      "106/106 [==============================] - 0s 2ms/step - loss: 0.0725\n",
      "Epoch 27/50\n",
      " 90/106 [========================>.....] - ETA: 0s - loss: 0.0653WARNING:tensorflow:Early stopping conditioned on metric `val_loss` which is not available. Available metrics are: loss\n",
      "106/106 [==============================] - 0s 2ms/step - loss: 0.0720\n",
      "Epoch 28/50\n",
      "100/106 [===========================>..] - ETA: 0s - loss: 0.0728WARNING:tensorflow:Early stopping conditioned on metric `val_loss` which is not available. Available metrics are: loss\n",
      "106/106 [==============================] - 0s 2ms/step - loss: 0.0753\n",
      "Epoch 29/50\n",
      " 91/106 [========================>.....] - ETA: 0s - loss: 0.0713WARNING:tensorflow:Early stopping conditioned on metric `val_loss` which is not available. Available metrics are: loss\n",
      "106/106 [==============================] - 0s 2ms/step - loss: 0.0692\n",
      "Epoch 30/50\n",
      " 89/106 [========================>.....] - ETA: 0s - loss: 0.0664WARNING:tensorflow:Early stopping conditioned on metric `val_loss` which is not available. Available metrics are: loss\n",
      "106/106 [==============================] - 0s 2ms/step - loss: 0.0674\n",
      "Epoch 31/50\n",
      " 88/106 [=======================>......] - ETA: 0s - loss: 0.0576WARNING:tensorflow:Early stopping conditioned on metric `val_loss` which is not available. Available metrics are: loss\n",
      "106/106 [==============================] - 0s 2ms/step - loss: 0.0581\n",
      "Epoch 32/50\n",
      " 88/106 [=======================>......] - ETA: 0s - loss: 0.0560WARNING:tensorflow:Early stopping conditioned on metric `val_loss` which is not available. Available metrics are: loss\n",
      "106/106 [==============================] - 0s 2ms/step - loss: 0.0582\n",
      "Epoch 33/50\n",
      " 87/106 [=======================>......] - ETA: 0s - loss: 0.0543WARNING:tensorflow:Early stopping conditioned on metric `val_loss` which is not available. Available metrics are: loss\n",
      "106/106 [==============================] - 0s 2ms/step - loss: 0.0549\n",
      "Epoch 34/50\n",
      " 90/106 [========================>.....] - ETA: 0s - loss: 0.0572WARNING:tensorflow:Early stopping conditioned on metric `val_loss` which is not available. Available metrics are: loss\n",
      "106/106 [==============================] - 0s 2ms/step - loss: 0.0578\n",
      "Epoch 35/50\n",
      " 87/106 [=======================>......] - ETA: 0s - loss: 0.0520WARNING:tensorflow:Early stopping conditioned on metric `val_loss` which is not available. Available metrics are: loss\n",
      "106/106 [==============================] - 0s 2ms/step - loss: 0.0531\n",
      "Epoch 36/50\n",
      " 85/106 [=======================>......] - ETA: 0s - loss: 0.0489WARNING:tensorflow:Early stopping conditioned on metric `val_loss` which is not available. Available metrics are: loss\n",
      "106/106 [==============================] - 0s 2ms/step - loss: 0.0507\n",
      "Epoch 37/50\n",
      "105/106 [============================>.] - ETA: 0s - loss: 0.0513WARNING:tensorflow:Early stopping conditioned on metric `val_loss` which is not available. Available metrics are: loss\n",
      "106/106 [==============================] - 0s 2ms/step - loss: 0.0513\n",
      "Epoch 38/50\n",
      " 88/106 [=======================>......] - ETA: 0s - loss: 0.0472WARNING:tensorflow:Early stopping conditioned on metric `val_loss` which is not available. Available metrics are: loss\n",
      "106/106 [==============================] - 0s 2ms/step - loss: 0.0468\n",
      "Epoch 39/50\n",
      " 98/106 [==========================>...] - ETA: 0s - loss: 0.0539WARNING:tensorflow:Early stopping conditioned on metric `val_loss` which is not available. Available metrics are: loss\n",
      "106/106 [==============================] - 0s 2ms/step - loss: 0.0549\n",
      "Epoch 40/50\n",
      " 80/106 [=====================>........] - ETA: 0s - loss: 0.0444WARNING:tensorflow:Early stopping conditioned on metric `val_loss` which is not available. Available metrics are: loss\n",
      "106/106 [==============================] - 0s 2ms/step - loss: 0.0474\n",
      "Epoch 41/50\n",
      " 86/106 [=======================>......] - ETA: 0s - loss: 0.0472WARNING:tensorflow:Early stopping conditioned on metric `val_loss` which is not available. Available metrics are: loss\n",
      "106/106 [==============================] - 0s 2ms/step - loss: 0.0489\n",
      "Epoch 42/50\n",
      " 82/106 [======================>.......] - ETA: 0s - loss: 0.0455WARNING:tensorflow:Early stopping conditioned on metric `val_loss` which is not available. Available metrics are: loss\n",
      "106/106 [==============================] - 0s 2ms/step - loss: 0.0452\n",
      "Epoch 43/50\n",
      "105/106 [============================>.] - ETA: 0s - loss: 0.0421WARNING:tensorflow:Early stopping conditioned on metric `val_loss` which is not available. Available metrics are: loss\n",
      "106/106 [==============================] - 0s 2ms/step - loss: 0.0419\n",
      "Epoch 44/50\n",
      " 78/106 [=====================>........] - ETA: 0s - loss: 0.0375WARNING:tensorflow:Early stopping conditioned on metric `val_loss` which is not available. Available metrics are: loss\n",
      "106/106 [==============================] - 0s 2ms/step - loss: 0.0383\n",
      "Epoch 45/50\n",
      " 85/106 [=======================>......] - ETA: 0s - loss: 0.0377WARNING:tensorflow:Early stopping conditioned on metric `val_loss` which is not available. Available metrics are: loss\n",
      "106/106 [==============================] - 0s 2ms/step - loss: 0.0392\n",
      "Epoch 46/50\n",
      " 83/106 [======================>.......] - ETA: 0s - loss: 0.0373WARNING:tensorflow:Early stopping conditioned on metric `val_loss` which is not available. Available metrics are: loss\n",
      "106/106 [==============================] - 0s 2ms/step - loss: 0.0395\n",
      "Epoch 47/50\n",
      " 81/106 [=====================>........] - ETA: 0s - loss: 0.0390WARNING:tensorflow:Early stopping conditioned on metric `val_loss` which is not available. Available metrics are: loss\n",
      "106/106 [==============================] - 0s 2ms/step - loss: 0.0406\n",
      "Epoch 48/50\n",
      " 92/106 [=========================>....] - ETA: 0s - loss: 0.0438WARNING:tensorflow:Early stopping conditioned on metric `val_loss` which is not available. Available metrics are: loss\n",
      "106/106 [==============================] - 0s 2ms/step - loss: 0.0441\n",
      "Epoch 49/50\n",
      " 85/106 [=======================>......] - ETA: 0s - loss: 0.0355WARNING:tensorflow:Early stopping conditioned on metric `val_loss` which is not available. Available metrics are: loss\n",
      "106/106 [==============================] - 0s 2ms/step - loss: 0.0367\n",
      "Epoch 50/50\n",
      " 80/106 [=====================>........] - ETA: 0s - loss: 0.0381WARNING:tensorflow:Early stopping conditioned on metric `val_loss` which is not available. Available metrics are: loss\n",
      "106/106 [==============================] - 0s 2ms/step - loss: 0.0387\n"
     ]
    }
   ],
   "source": [
    "es_callback = tf.keras.callbacks.EarlyStopping(monitor='val_loss', patience=3, \n",
    "                                               restore_best_weights=True,\n",
    "                                               verbose=1)\n",
    "history=model3.fit(X_train, y_train, epochs=50, callbacks=[es_callback])"
   ]
  },
  {
   "cell_type": "code",
   "execution_count": null,
   "id": "f5356860-f4de-4528-ac7a-2bf21a0d64b0",
   "metadata": {},
   "outputs": [],
   "source": []
  },
  {
   "cell_type": "code",
   "execution_count": 41,
   "id": "379d4a84-29bd-4936-9a91-a3a7d6538f4c",
   "metadata": {},
   "outputs": [
    {
     "name": "stdout",
     "output_type": "stream",
     "text": [
      "46/46 [==============================] - 0s 1ms/step\n",
      "Explained_varianve_score=0.6903468578163279\n",
      "R-squared=0.6903465535216866\n"
     ]
    }
   ],
   "source": [
    "from sklearn.metrics import mean_squared_error,mean_absolute_error,explained_variance_score\n",
    "from sklearn.metrics import r2_score\n",
    "predictions=model3.predict(X_test)\n",
    "print('Explained_varianve_score={}'.format( explained_variance_score(y_test,predictions)))\n",
    "print('R-squared={}'.format( r2_score(y_test,predictions)))"
   ]
  },
  {
   "cell_type": "markdown",
   "id": "38ca35c7-8f98-4908-b017-4f883fc22406",
   "metadata": {},
   "source": [
    "# Model 4"
   ]
  },
  {
   "cell_type": "code",
   "execution_count": 42,
   "id": "4193b223-230f-40bb-8946-92365d4170bc",
   "metadata": {},
   "outputs": [
    {
     "data": {
      "text/plain": [
       "<keras.callbacks.History at 0x154db3b9370>"
      ]
     },
     "execution_count": 42,
     "metadata": {},
     "output_type": "execute_result"
    }
   ],
   "source": [
    "\n",
    "model4 = Sequential()\n",
    "\n",
    "model4.add(Dense(units = 27, activation = 'relu', input_dim = X.shape[1]))\n",
    "model4.add(Dense(units = 27, activation = 'relu'))\n",
    "model4.add(Dense(units = 1, activation = 'linear'))\n",
    "\n",
    "adam = tf.optimizers.Adam(learning_rate=0.001, decay=1e-6)\n",
    "model4.compile(optimizer =\"adam\", loss = 'mean_squared_error')\n",
    "\n",
    "model4.fit(X_train, y_train,validation_data=(X_test,y_test) , batch_size = 128, epochs = 350,verbose=0)"
   ]
  },
  {
   "cell_type": "code",
   "execution_count": 43,
   "id": "5b25526c-cabe-4db3-b703-9e3bdcfc666b",
   "metadata": {},
   "outputs": [
    {
     "name": "stdout",
     "output_type": "stream",
     "text": [
      "Model: \"sequential_3\"\n",
      "_________________________________________________________________\n",
      " Layer (type)                Output Shape              Param #   \n",
      "=================================================================\n",
      " dense_12 (Dense)            (None, 27)                756       \n",
      "                                                                 \n",
      " dense_13 (Dense)            (None, 27)                756       \n",
      "                                                                 \n",
      " dense_14 (Dense)            (None, 1)                 28        \n",
      "                                                                 \n",
      "=================================================================\n",
      "Total params: 1,540\n",
      "Trainable params: 1,540\n",
      "Non-trainable params: 0\n",
      "_________________________________________________________________\n"
     ]
    }
   ],
   "source": [
    "model4.summary()"
   ]
  },
  {
   "cell_type": "code",
   "execution_count": 44,
   "id": "98d0b032-b80d-4213-bdc5-ce9f1ad84f69",
   "metadata": {},
   "outputs": [
    {
     "name": "stdout",
     "output_type": "stream",
     "text": [
      "46/46 [==============================] - 0s 887us/step\n",
      "Explained_varianve_score=0.6679179191614796\n",
      "R-squared=0.6677208390231029\n"
     ]
    }
   ],
   "source": [
    "predictions=model4.predict(X_test)\n",
    "print('Explained_varianve_score={}'.format( explained_variance_score(y_test,predictions)))\n",
    "print('R-squared={}'.format( r2_score(y_test,predictions)))"
   ]
  },
  {
   "cell_type": "markdown",
   "id": "79186f61-3fe8-4181-a7f4-5a0497729fc7",
   "metadata": {},
   "source": [
    "# Model 5"
   ]
  },
  {
   "cell_type": "code",
   "execution_count": 45,
   "id": "b5a79758-0d08-4ed0-941f-849055175989",
   "metadata": {},
   "outputs": [
    {
     "data": {
      "text/plain": [
       "<keras.callbacks.History at 0x154dba15370>"
      ]
     },
     "execution_count": 45,
     "metadata": {},
     "output_type": "execute_result"
    }
   ],
   "source": [
    "model5 = Sequential()\n",
    "\n",
    "model5.add(Dense(units = 82, activation = 'relu', input_dim = X.shape[1]))\n",
    "\n",
    "model5.add(Dense(units = 55, activation = 'relu'))\n",
    "\n",
    "model5.add(Dense(units = 28, activation = 'relu'))\n",
    "\n",
    "model5.add(Dense(units = 1, activation = 'linear'))\n",
    "\n",
    "sgd = tf.optimizers.SGD(learning_rate=0.001,nesterov = True)\n",
    "model5.compile(optimizer =sgd, loss = 'mean_squared_error')\n",
    "\n",
    "model5.fit(X_train, y_train,validation_data=(X_test,y_test) , batch_size = 128, epochs = 350,verbose=0)"
   ]
  },
  {
   "cell_type": "code",
   "execution_count": 46,
   "id": "7110a1eb-bc49-46f3-aa35-1f14ed1c772e",
   "metadata": {},
   "outputs": [
    {
     "name": "stdout",
     "output_type": "stream",
     "text": [
      "46/46 [==============================] - 0s 896us/step\n",
      "Explained_variance_score=0.7236858641029544\n",
      "R-squared=0.7234918791119573\n"
     ]
    }
   ],
   "source": [
    "predictions=model5.predict(X_test)\n",
    "print('Explained_variance_score={}'.format( explained_variance_score(y_test,predictions)))\n",
    "print('R-squared={}'.format( r2_score(y_test,predictions)))"
   ]
  },
  {
   "cell_type": "code",
   "execution_count": 47,
   "id": "ed28d204-d999-4132-8140-ce008a26b310",
   "metadata": {},
   "outputs": [],
   "source": [
    "from sklearn.metrics import mean_absolute_error as mae"
   ]
  },
  {
   "cell_type": "code",
   "execution_count": 48,
   "id": "73aba63a-d2c5-405f-a65e-6d759f26551f",
   "metadata": {},
   "outputs": [],
   "source": [
    "error = mae(y_test,predictions)"
   ]
  },
  {
   "cell_type": "code",
   "execution_count": 52,
   "id": "d161ceea-e096-4965-8fb5-de7a037e74bb",
   "metadata": {},
   "outputs": [
    {
     "name": "stdout",
     "output_type": "stream",
     "text": [
      "Mean absolute error : 0.3610385341717228\n"
     ]
    }
   ],
   "source": [
    "print(\"Mean absolute error : \" + str(error))"
   ]
  },
  {
   "cell_type": "code",
   "execution_count": 51,
   "id": "271e77e5-e356-447b-909c-9c83d637b273",
   "metadata": {},
   "outputs": [
    {
     "name": "stdout",
     "output_type": "stream",
     "text": [
      "MSE 0.2846343800383536\n"
     ]
    }
   ],
   "source": [
    "from sklearn.metrics import mean_squared_error\n",
    "print(\"MSE\",mean_squared_error(y_test,predictions))"
   ]
  },
  {
   "cell_type": "code",
   "execution_count": null,
   "id": "f6ab53ac-3c0b-487b-9747-353f46052fb3",
   "metadata": {},
   "outputs": [
    {
     "name": "stdout",
     "output_type": "stream",
     "text": [
      "RMSE 0.5335113682372229\n"
     ]
    }
   ],
   "source": [
    "print(\"RMSE\",np.sqrt(mean_squared_error(y_test,predictions)))"
   ]
  },
  {
   "cell_type": "code",
   "execution_count": null,
   "id": "531c687d-acf9-494b-a747-5073ebc76909",
   "metadata": {},
   "outputs": [
    {
     "name": "stdout",
     "output_type": "stream",
     "text": [
      "RMSE -0.6282748996815606\n"
     ]
    }
   ],
   "source": [
    "print(\"RMSE\",np.log(np.sqrt(mean_squared_error(y_test,predictions))))"
   ]
  },
  {
   "cell_type": "code",
   "execution_count": null,
   "id": "d2e42bb9-661c-47a8-8247-51d4e1a4b487",
   "metadata": {},
   "outputs": [],
   "source": []
  }
 ],
 "metadata": {
  "kernelspec": {
   "display_name": "Python 3 (ipykernel)",
   "language": "python",
   "name": "python3"
  },
  "language_info": {
   "codemirror_mode": {
    "name": "ipython",
    "version": 3
   },
   "file_extension": ".py",
   "mimetype": "text/x-python",
   "name": "python",
   "nbconvert_exporter": "python",
   "pygments_lexer": "ipython3",
   "version": "3.9.12"
  }
 },
 "nbformat": 4,
 "nbformat_minor": 5
}
